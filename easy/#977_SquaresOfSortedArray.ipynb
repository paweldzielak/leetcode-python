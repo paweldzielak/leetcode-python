{
 "cells": [
  {
   "cell_type": "code",
   "execution_count": 8,
   "id": "initial_id",
   "metadata": {
    "collapsed": true,
    "ExecuteTime": {
     "end_time": "2025-01-05T12:11:46.070178Z",
     "start_time": "2025-01-05T12:11:46.063418Z"
    }
   },
   "outputs": [
    {
     "name": "stdout",
     "output_type": "stream",
     "text": [
      "[0, 1, 9, 16, 100] [0,1,9,16,100]\n",
      "[4, 9, 9, 49, 121] [4,9,9,49,121]\n"
     ]
    }
   ],
   "source": [
    "from typing import List\n",
    "\n",
    "def sortedSquares(self, nums: List[int]) -> List[int]:\n",
    "    powered = map(lambda x: pow(x, 2), nums)\n",
    "    return sorted(powered)\n",
    "\n",
    "\n",
    "print(sortedSquares(None, [-4,-1,0,3,10]), \"[0,1,9,16,100]\")\n",
    "print(sortedSquares(None, [-7,-3,2,3,11]), \"[4,9,9,49,121]\")"
   ]
  },
  {
   "cell_type": "code",
   "outputs": [
    {
     "name": "stdout",
     "output_type": "stream",
     "text": [
      "['h', 'a', 'n', 'n', 'a', 'H']\n"
     ]
    }
   ],
   "source": [
    "#344 test\n",
    "l_ = [\"H\",\"a\",\"n\",\"n\",\"a\",\"h\"]\n",
    "\n",
    "l_.reverse()\n",
    "\n",
    "print(l_)"
   ],
   "metadata": {
    "collapsed": false,
    "ExecuteTime": {
     "end_time": "2025-01-05T12:14:50.896291Z",
     "start_time": "2025-01-05T12:14:50.890787Z"
    }
   },
   "id": "4c71bdd36392b052",
   "execution_count": 12
  }
 ],
 "metadata": {
  "kernelspec": {
   "display_name": "Python 3",
   "language": "python",
   "name": "python3"
  },
  "language_info": {
   "codemirror_mode": {
    "name": "ipython",
    "version": 2
   },
   "file_extension": ".py",
   "mimetype": "text/x-python",
   "name": "python",
   "nbconvert_exporter": "python",
   "pygments_lexer": "ipython2",
   "version": "2.7.6"
  }
 },
 "nbformat": 4,
 "nbformat_minor": 5
}
