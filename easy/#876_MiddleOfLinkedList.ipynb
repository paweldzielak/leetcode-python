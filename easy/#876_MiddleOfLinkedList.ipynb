{
 "cells": [
  {
   "cell_type": "code",
   "execution_count": 2,
   "id": "initial_id",
   "metadata": {
    "collapsed": true,
    "ExecuteTime": {
     "end_time": "2025-01-19T16:27:56.215399Z",
     "start_time": "2025-01-19T16:27:56.207399Z"
    }
   },
   "outputs": [
    {
     "name": "stdout",
     "output_type": "stream",
     "text": [
      "ListNode(val=3, next={ListNode(val=4, next={ListNode(val=5, next={None})})}) -> [3,4,5]\n",
      "ListNode(val=4, next={ListNode(val=5, next={ListNode(val=6, next={None})})}) -> [4,5,6]\n"
     ]
    }
   ],
   "source": [
    "from typing import Optional, List\n",
    "\n",
    "import sys\n",
    "sys.path.append(\"../linkedList\")\n",
    "\n",
    "from linkedList import list_to_LL, ListNode\n",
    "\n",
    "\n",
    "def middleNode(self, head: Optional[ListNode]) -> Optional[ListNode]:  \n",
    "    fast = slow = head\n",
    "    \n",
    "    while fast and fast.next:\n",
    "        fast = fast.next.next\n",
    "        slow = slow.next\n",
    "    \n",
    "    return slow\n",
    "\n",
    "\n",
    "print(middleNode(None, list_to_LL([1,2,3,4,5])), \"-> [3,4,5]\")\n",
    "print(middleNode(None, list_to_LL([1,2,3,4,5,6])), \"-> [4,5,6]\")"
   ]
  }
 ],
 "metadata": {
  "kernelspec": {
   "display_name": "Python 3",
   "language": "python",
   "name": "python3"
  },
  "language_info": {
   "codemirror_mode": {
    "name": "ipython",
    "version": 2
   },
   "file_extension": ".py",
   "mimetype": "text/x-python",
   "name": "python",
   "nbconvert_exporter": "python",
   "pygments_lexer": "ipython2",
   "version": "2.7.6"
  }
 },
 "nbformat": 4,
 "nbformat_minor": 5
}
