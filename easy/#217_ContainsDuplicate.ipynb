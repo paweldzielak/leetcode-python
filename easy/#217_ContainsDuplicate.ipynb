{
 "cells": [
  {
   "cell_type": "code",
   "execution_count": 3,
   "id": "initial_id",
   "metadata": {
    "collapsed": true,
    "ExecuteTime": {
     "end_time": "2025-01-02T18:58:57.896533100Z",
     "start_time": "2025-01-02T18:58:57.858582900Z"
    }
   },
   "outputs": [
    {
     "name": "stdout",
     "output_type": "stream",
     "text": [
      "True\n",
      "False\n",
      "True\n"
     ]
    }
   ],
   "source": [
    "from typing import List\n",
    "\n",
    "def containsDuplicate(self, nums: List[int]) -> bool:    \n",
    "        s_ = set()\n",
    "        for n in nums:\n",
    "            if n in s_: \n",
    "                return True\n",
    "            else:\n",
    "                s_.add(n)\n",
    "        return False\n",
    "    \n",
    "    \n",
    "print(containsDuplicate(None,  [1,2,3,1]))\n",
    "print(containsDuplicate(None,  [1,2,3,4]))\n",
    "print(containsDuplicate(None, [1,1,1,3,3,4,3,2,4,2]))"
   ]
  }
 ],
 "metadata": {
  "kernelspec": {
   "display_name": "Python 3",
   "language": "python",
   "name": "python3"
  },
  "language_info": {
   "codemirror_mode": {
    "name": "ipython",
    "version": 2
   },
   "file_extension": ".py",
   "mimetype": "text/x-python",
   "name": "python",
   "nbconvert_exporter": "python",
   "pygments_lexer": "ipython2",
   "version": "2.7.6"
  }
 },
 "nbformat": 4,
 "nbformat_minor": 5
}
