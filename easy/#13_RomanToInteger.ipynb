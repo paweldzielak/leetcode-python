{
 "cells": [
  {
   "cell_type": "code",
   "execution_count": 78,
   "id": "initial_id",
   "metadata": {
    "collapsed": true,
    "ExecuteTime": {
     "end_time": "2024-10-27T09:08:45.776994800Z",
     "start_time": "2024-10-27T09:08:45.760432300Z"
    }
   },
   "outputs": [],
   "source": [
    "d_ = {\n",
    "    \"V\": \"I\",\n",
    "\"X\": \"I\",\n",
    "\"L\": \"X\",\n",
    "\"C\": \"X\",\n",
    "\"D\": \"C\",\n",
    "\"M\": \"C\"\n",
    "}\n",
    "\n",
    "set_next = set(d_.keys())\n",
    "\n",
    "mapping = {'I': 1,\n",
    "           'V': 5,\n",
    "           'X': 10,\n",
    "           'L': 50,\n",
    "           'C': 100,\n",
    "           'D': 500,\n",
    "           'M': 1000}\n",
    "\n",
    "def romanToInt(s: str) -> int:\n",
    "    result = 0\n",
    "    for idx, char in enumerate(s):\n",
    "        result += mapping[char]\n",
    "        # if idx > 0 and char in set_next:\n",
    "        if idx > 0 and char in set_next and s[idx -1]  == d_[char]:\n",
    "            result -= (mapping[s[idx -1]] * 2)\n",
    "    return result"
   ]
  },
  {
   "cell_type": "code",
   "outputs": [
    {
     "data": {
      "text/plain": "1994"
     },
     "execution_count": 79,
     "metadata": {},
     "output_type": "execute_result"
    }
   ],
   "source": [
    "romanToInt(\"MCMXCIV\")"
   ],
   "metadata": {
    "collapsed": false,
    "ExecuteTime": {
     "end_time": "2024-10-27T09:08:47.355179500Z",
     "start_time": "2024-10-27T09:08:47.350180900Z"
    }
   },
   "id": "f831b3e6eaa66b73",
   "execution_count": 79
  }
 ],
 "metadata": {
  "kernelspec": {
   "display_name": "Python 3",
   "language": "python",
   "name": "python3"
  },
  "language_info": {
   "codemirror_mode": {
    "name": "ipython",
    "version": 2
   },
   "file_extension": ".py",
   "mimetype": "text/x-python",
   "name": "python",
   "nbconvert_exporter": "python",
   "pygments_lexer": "ipython2",
   "version": "2.7.6"
  }
 },
 "nbformat": 4,
 "nbformat_minor": 5
}
