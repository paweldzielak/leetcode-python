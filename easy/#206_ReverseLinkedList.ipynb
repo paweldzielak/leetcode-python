{
 "cells": [
  {
   "cell_type": "code",
   "execution_count": 1,
   "id": "initial_id",
   "metadata": {
    "collapsed": true,
    "ExecuteTime": {
     "end_time": "2025-01-19T09:49:53.771814Z",
     "start_time": "2025-01-19T09:49:53.753597Z"
    }
   },
   "outputs": [
    {
     "name": "stdout",
     "output_type": "stream",
     "text": [
      "ListNode(val=2, next={ListNode(val=1, next={ListNode(val=1, next={None})})})\n",
      "ListNode(val=3, next={ListNode(val=3, next={ListNode(val=2, next={ListNode(val=1, next={ListNode(val=1, next={None})})})})})\n"
     ]
    }
   ],
   "source": [
    "from typing import Optional, List\n",
    "\n",
    "import sys\n",
    "sys.path.append(\"../linkedList\")\n",
    "\n",
    "from linkedList import list_to_LL, ListNode\n",
    "\n",
    "def reverseList(self, head: Optional[ListNode]) -> Optional[ListNode]:\n",
    "    current = head\n",
    "    prev = None\n",
    "    while current:\n",
    "        temp = current.next\n",
    "        current.next = prev\n",
    "        prev = current\n",
    "        current = temp\n",
    "        \n",
    "    \n",
    "    return prev\n",
    "\n",
    "\n",
    "print(reverseList(None, list_to_LL([1, 1, 2])))\n",
    "print(reverseList(None, list_to_LL([1, 1, 2, 3, 3])))"
   ]
  }
 ],
 "metadata": {
  "kernelspec": {
   "display_name": "Python 3",
   "language": "python",
   "name": "python3"
  },
  "language_info": {
   "codemirror_mode": {
    "name": "ipython",
    "version": 2
   },
   "file_extension": ".py",
   "mimetype": "text/x-python",
   "name": "python",
   "nbconvert_exporter": "python",
   "pygments_lexer": "ipython2",
   "version": "2.7.6"
  }
 },
 "nbformat": 4,
 "nbformat_minor": 5
}
