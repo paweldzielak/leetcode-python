{
 "cells": [
  {
   "cell_type": "code",
   "execution_count": 53,
   "id": "initial_id",
   "metadata": {
    "collapsed": true,
    "ExecuteTime": {
     "end_time": "2025-02-06T07:37:15.101961Z",
     "start_time": "2025-02-06T07:37:15.097606Z"
    }
   },
   "outputs": [
    {
     "name": "stdout",
     "output_type": "stream",
     "text": [
      "2 2\n"
     ]
    }
   ],
   "source": [
    "import random\n",
    "current_target = -1\n",
    "\n",
    "def isBadVersion(version: int) -> bool:\n",
    "    result = current_target <= version \n",
    "    # print(f\"{version=}, {current_target=}, {result=}\")\n",
    "    return result\n",
    "\n",
    "\n",
    "def firstBadVersion(self, n: int) -> int:\n",
    "    global current_target\n",
    "    current_target = 2\n",
    "        \n",
    "    l = 1\n",
    "    r = n\n",
    "    while l < r:\n",
    "        m = l + ((r-l) // 2)     \n",
    "        if isBadVersion(m):\n",
    "            r = m\n",
    "        else:\n",
    "            l = m + 1\n",
    "    return l\n",
    "    \n",
    "\n",
    "print(firstBadVersion(None, n =2), 2)"
   ]
  },
  {
   "cell_type": "code",
   "outputs": [],
   "source": [],
   "metadata": {
    "collapsed": false
   },
   "id": "d991770d7716eaf3"
  }
 ],
 "metadata": {
  "kernelspec": {
   "display_name": "Python 3",
   "language": "python",
   "name": "python3"
  },
  "language_info": {
   "codemirror_mode": {
    "name": "ipython",
    "version": 2
   },
   "file_extension": ".py",
   "mimetype": "text/x-python",
   "name": "python",
   "nbconvert_exporter": "python",
   "pygments_lexer": "ipython2",
   "version": "2.7.6"
  }
 },
 "nbformat": 4,
 "nbformat_minor": 5
}
