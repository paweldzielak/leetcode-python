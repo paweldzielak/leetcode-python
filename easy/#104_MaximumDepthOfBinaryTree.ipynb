{
 "cells": [
  {
   "cell_type": "code",
   "id": "initial_id",
   "metadata": {
    "collapsed": true,
    "ExecuteTime": {
     "end_time": "2025-07-27T16:29:20.336871Z",
     "start_time": "2025-07-27T16:29:20.330587Z"
    }
   },
   "source": [
    "class TreeNode:\n",
    "    def __init__(self, val=0, left=None, right=None):\n",
    "        self.val = val\n",
    "        self.left = left\n",
    "        self.right = right\n",
    "\n",
    "    def __str__(self):\n",
    "        return str(self.val)"
   ],
   "outputs": [],
   "execution_count": 1
  },
  {
   "metadata": {},
   "cell_type": "code",
   "outputs": [],
   "execution_count": null,
   "source": [
    "from typing import Optional\n",
    "\n",
    "class Solution:\n",
    "    def maxDepth(self, root: Optional[TreeNode]) -> int:\n",
    "        if not root:\n",
    "            return 0\n",
    "\n",
    "        left, right, val = root.left, root.right, root.val\n",
    "        result = 0 if val is None else 1\n",
    "\n",
    "        if left and not right:\n",
    "            result += self.maxDepth(left)\n",
    "        elif not left and right:\n",
    "            result += self.maxDepth(right)\n",
    "        elif left and right:\n",
    "            result += max([self.maxDepth(right), self.maxDepth(left)])\n",
    "        return result\n",
    "\n",
    "\n"
   ],
   "id": "28538c52a985a08a"
  }
 ],
 "metadata": {
  "kernelspec": {
   "display_name": "Python 3",
   "language": "python",
   "name": "python3"
  },
  "language_info": {
   "codemirror_mode": {
    "name": "ipython",
    "version": 2
   },
   "file_extension": ".py",
   "mimetype": "text/x-python",
   "name": "python",
   "nbconvert_exporter": "python",
   "pygments_lexer": "ipython2",
   "version": "2.7.6"
  }
 },
 "nbformat": 4,
 "nbformat_minor": 5
}
