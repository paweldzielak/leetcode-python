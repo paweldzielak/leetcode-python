{
 "cells": [
  {
   "cell_type": "code",
   "id": "initial_id",
   "metadata": {
    "collapsed": true,
    "ExecuteTime": {
     "end_time": "2025-03-12T08:40:57.101174Z",
     "start_time": "2025-03-12T08:40:57.096661Z"
    }
   },
   "source": [
    "def isPalindrome(self, s: str) -> bool:\n",
    "    s = ''.join(char for char in s if char.isalnum())\n",
    "    s = s.lower()\n",
    "    return s == s[::-1]\n",
    "\n",
    "print(isPalindrome(None, \"A man, a plan, a canal: Panama\"))\n",
    "print(isPalindrome(None, \"race a car\"))"
   ],
   "outputs": [
    {
     "name": "stdout",
     "output_type": "stream",
     "text": [
      "True\n",
      "False\n"
     ]
    }
   ],
   "execution_count": 14
  },
  {
   "metadata": {
    "ExecuteTime": {
     "end_time": "2025-03-12T08:45:17.452136Z",
     "start_time": "2025-03-12T08:45:17.447312Z"
    }
   },
   "cell_type": "code",
   "source": [
    "def isPalindrome2(self, s: str) -> bool:\n",
    "    n = len(s)\n",
    "    l = 0\n",
    "    r = n - 1\n",
    "\n",
    "    s = s.lower()\n",
    "    while l < r:\n",
    "        if not s[l].isalnum():\n",
    "            l += 1\n",
    "            continue\n",
    "        if not s[r].isalnum():\n",
    "            r -= 1\n",
    "            continue\n",
    "        if s[r] != s[l]:\n",
    "            return False\n",
    "        l += 1\n",
    "        r -= 1\n",
    "    return True\n",
    "\n",
    "print(isPalindrome2(None, \"A man, a plan, a canal: Panama\"))\n",
    "print(isPalindrome2(None, \"race a car\"))"
   ],
   "id": "3a5016844cf6ab97",
   "outputs": [
    {
     "name": "stdout",
     "output_type": "stream",
     "text": [
      "True\n",
      "False\n"
     ]
    }
   ],
   "execution_count": 17
  }
 ],
 "metadata": {
  "kernelspec": {
   "display_name": "Python 3",
   "language": "python",
   "name": "python3"
  },
  "language_info": {
   "codemirror_mode": {
    "name": "ipython",
    "version": 2
   },
   "file_extension": ".py",
   "mimetype": "text/x-python",
   "name": "python",
   "nbconvert_exporter": "python",
   "pygments_lexer": "ipython2",
   "version": "2.7.6"
  }
 },
 "nbformat": 4,
 "nbformat_minor": 5
}
