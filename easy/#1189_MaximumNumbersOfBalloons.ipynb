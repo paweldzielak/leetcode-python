{
 "cells": [
  {
   "cell_type": "code",
   "execution_count": 25,
   "id": "initial_id",
   "metadata": {
    "collapsed": true,
    "ExecuteTime": {
     "end_time": "2025-01-03T19:57:08.764858900Z",
     "start_time": "2025-01-03T19:57:08.756598400Z"
    }
   },
   "outputs": [],
   "source": [
    "from collections import defaultdict\n",
    "\n",
    "b_ = set(\"balloon\")\n",
    "\n",
    "def maxNumberOfBalloons(self, text: str) -> int:\n",
    "    l = len(set(text) & b_)\n",
    "    d = defaultdict(int)\n",
    "    \n",
    "    if l == len(b_) and text.count('o') > 1 and text.count('l') > 1:\n",
    "        for char in b_:\n",
    "            counter = text.count(char)\n",
    "            if counter == 1:\n",
    "                return 1\n",
    "            d[char] = counter\n",
    "        \n",
    "        return min([*d.values(), d['o'] // 2, d['l'] // 2])\n",
    "    else:\n",
    "        return 0\n",
    "    "
   ]
  },
  {
   "cell_type": "code",
   "outputs": [
    {
     "name": "stdout",
     "output_type": "stream",
     "text": [
      "nlaebolko -> 1\n",
      "loonbalxballpoon -> 2\n",
      "leetcode -> 0\n",
      "14 14\n"
     ]
    }
   ],
   "source": [
    "print(\"nlaebolko ->\", maxNumberOfBalloons(None, \"nlaebolko\"))\n",
    "print(\"loonbalxballpoon ->\", maxNumberOfBalloons(None, \"loonbalxballpoon\"))\n",
    "print(\"leetcode ->\", maxNumberOfBalloons(None, \"leetcode\"))\n",
    "\n",
    "print(14, maxNumberOfBalloons(None, \"mbetypbpefxvviadqaodrbjeoacfomepmzymiudltgnvnpbowwmjgpzzhtiismearuwocsgbiimiqqzaozgeizikrlxmupfzjzmlfttqqbpfblqfkecsdfbsceqjhubfxksivrfwvukapxmuciybfhzlmpeamdxziptxregymqtmgcsujmugissgnlbhxbcxxeoumcqyulvahuianbaaxgzrtmshjguqdaxvxndzoqvwmcjfhpevavnrciqbymnlylbrfkkiceienoarfrzzxtuaqapaeqeqolozadmtgjyhfqzpuaskjuawxqkdqyjqcmbxtvshzrquvegcuyuckznspmrxvqdassidcmrajedsnuuumfwqzvasljlyvfefktiqgvzvdzojtjegsyhbepdkuwvgrfscezvswywmdavpxlekbrlkfnbyvlobazmvgulxrfdranuhomkrlpbfeagfxxxuhjuqhbkhznixquxrxngwimdxdhqbdaouitsvcdmbwxbbaomkgxsqwnexbjjyhtxvkjfqkrrxjghvzqsattubphryqxxdyjkihfnzvjhohnhdlfwoqiwtmwzfgcyhyqtcketvgnbchcxvnhcsoosirfqgdgcsitegzlxdfijzmxnvhrulmgvoqfpzesootscnxenokmmozmoxpaverydbsnimwacjqhrtxkqtvghjyushoctxphxzztukgmnoeycqaeukymvwxcsyvvctflqjhtcvjtxncuvhkptkjnzaetwbzkwnseovewuhpkaxiphdicgacszzdturzgjkzwgkmzzavykancvvzaafgzjhcyicorrblmhsnnkhfkujttbkuuedhwguuaapojmnjdfytdhrepjwcddzsoeutlbbljlikghxefgbqenwamanikmynjcupqpdjnhldaixwygcvsgdkzszmsptqqnroflgozblygtiyaxudwmooiviqcosjfksnevultrf\"))\n"
   ],
   "metadata": {
    "collapsed": false,
    "ExecuteTime": {
     "end_time": "2025-01-03T19:57:10.240840Z",
     "start_time": "2025-01-03T19:57:10.238955300Z"
    }
   },
   "id": "28e6b9a66bb9e991",
   "execution_count": 26
  }
 ],
 "metadata": {
  "kernelspec": {
   "display_name": "Python 3",
   "language": "python",
   "name": "python3"
  },
  "language_info": {
   "codemirror_mode": {
    "name": "ipython",
    "version": 2
   },
   "file_extension": ".py",
   "mimetype": "text/x-python",
   "name": "python",
   "nbconvert_exporter": "python",
   "pygments_lexer": "ipython2",
   "version": "2.7.6"
  }
 },
 "nbformat": 4,
 "nbformat_minor": 5
}
