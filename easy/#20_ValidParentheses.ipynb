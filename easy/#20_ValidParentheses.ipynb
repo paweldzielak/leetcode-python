{
 "cells": [
  {
   "cell_type": "code",
   "outputs": [
    {
     "name": "stdout",
     "output_type": "stream",
     "text": [
      "True || True\n",
      "False || False\n",
      "True || True\n",
      "False || False\n",
      "False || False\n",
      "False || False\n",
      "True || True\n"
     ]
    }
   ],
   "source": [
    "pairs = {\")\": \"(\" , \"}\":\"{\", \"]\":\"[\"}\n",
    "\n",
    "def isValid(self, s: str) -> bool:\n",
    "    \n",
    "    if len(s) % 2 != 0:\n",
    "        return False\n",
    "    \n",
    "    stack = []\n",
    "    for par in s:\n",
    "       if par not in pairs:\n",
    "           stack.append(par)\n",
    "       else:\n",
    "           if not stack:\n",
    "               return False\n",
    "           else:\n",
    "               popped = stack.pop()\n",
    "               if popped != pairs[par]:\n",
    "                   return False\n",
    "    \n",
    "    return not stack\n",
    "\n",
    "print(isValid(None, \"()[]{}\"), \"|| True\")\n",
    "print(isValid(None, \"(]\"), \"|| False\")\n",
    "print(isValid(None, \"([])\"), \"|| True\")\n",
    "print(isValid(None, \"([)]\"), \"|| False\")\n",
    "print(isValid(None, \"(){}}{\"), \"|| False\")\n",
    "print(isValid(None, \"(}{)\"), \"|| False\")\n",
    "print(isValid(None, \"()\"), \"|| True\") "
   ],
   "metadata": {
    "collapsed": false,
    "ExecuteTime": {
     "end_time": "2025-01-16T10:50:17.648831Z",
     "start_time": "2025-01-16T10:50:17.643748Z"
    }
   },
   "id": "448af5cef0171561",
   "execution_count": 45
  }
 ],
 "metadata": {
  "kernelspec": {
   "display_name": "Python 3",
   "language": "python",
   "name": "python3"
  },
  "language_info": {
   "codemirror_mode": {
    "name": "ipython",
    "version": 2
   },
   "file_extension": ".py",
   "mimetype": "text/x-python",
   "name": "python",
   "nbconvert_exporter": "python",
   "pygments_lexer": "ipython2",
   "version": "2.7.6"
  }
 },
 "nbformat": 4,
 "nbformat_minor": 5
}
