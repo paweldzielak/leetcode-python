{
 "cells": [
  {
   "cell_type": "code",
   "execution_count": 11,
   "id": "initial_id",
   "metadata": {
    "collapsed": true,
    "ExecuteTime": {
     "end_time": "2025-02-09T07:49:55.944295Z",
     "start_time": "2025-02-09T07:49:55.938879Z"
    }
   },
   "outputs": [
    {
     "name": "stdout",
     "output_type": "stream",
     "text": [
      "12.75 12.75\n",
      "5.0 5.0\n"
     ]
    }
   ],
   "source": [
    "from typing import List\n",
    "\n",
    "# sliding window:\n",
    "def findMaxAverage(self, nums: List[int], k: int) -> float:\n",
    "    \n",
    "    sums = []\n",
    "\n",
    "    for idx in range(len(nums) - k + 1):\n",
    "        current_list = nums[idx:idx+k]\n",
    "        sums.append(sum(current_list))\n",
    "    \n",
    "    return max(sums) / k\n",
    "\n",
    "\n",
    "print(findMaxAverage(None, nums = [1,12,-5,-6,50,3], k = 4), 12.75)\n",
    "print(findMaxAverage(None, nums = [5], k = 1), 5.00000)"
   ]
  },
  {
   "cell_type": "code",
   "outputs": [],
   "source": [
    "def findMaxAverage2(self, nums: List[int], k: int) -> float:\n",
    "    sums = ( sum(nums[idx:idx+k]) for idx in range(len(nums) - k + 1) )\n",
    "    return max(sums) / k"
   ],
   "metadata": {
    "collapsed": false
   },
   "id": "1aa46a42c3256c9a"
  }
 ],
 "metadata": {
  "kernelspec": {
   "display_name": "Python 3",
   "language": "python",
   "name": "python3"
  },
  "language_info": {
   "codemirror_mode": {
    "name": "ipython",
    "version": 2
   },
   "file_extension": ".py",
   "mimetype": "text/x-python",
   "name": "python",
   "nbconvert_exporter": "python",
   "pygments_lexer": "ipython2",
   "version": "2.7.6"
  }
 },
 "nbformat": 4,
 "nbformat_minor": 5
}
