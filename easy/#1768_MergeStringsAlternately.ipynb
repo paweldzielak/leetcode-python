{
 "cells": [
  {
   "cell_type": "code",
   "execution_count": 8,
   "id": "initial_id",
   "metadata": {
    "collapsed": true,
    "ExecuteTime": {
     "end_time": "2024-11-11T17:26:39.017574700Z",
     "start_time": "2024-11-11T17:26:39.000511900Z"
    }
   },
   "outputs": [
    {
     "name": "stdout",
     "output_type": "stream",
     "text": [
      "hweolrllod\n",
      "\n",
      "apbqcr\n",
      "\n",
      "apbqrs\n"
     ]
    }
   ],
   "source": [
    "from itertools import zip_longest\n",
    "\n",
    "def mergeAlternately(word1: str, word2: str) -> str:\n",
    "    l_ = [v1+v2 for v1, v2 in zip_longest(word1, word2, fillvalue='')]\n",
    "    return \"\".join(l_)\n",
    "\n",
    "\n",
    "test1 = {'word1': 'hello', 'word2': 'world'}\n",
    "test2 = {'word1': 'abc', 'word2': 'pqr'}\n",
    "test3 = {'word1': 'ab', 'word2': 'pqrs'}\n",
    "\n",
    "print(mergeAlternately(**test1))\n",
    "print()\n",
    "print(mergeAlternately(**test2))\n",
    "print()\n",
    "print(mergeAlternately(**test3))"
   ]
  }
 ],
 "metadata": {
  "kernelspec": {
   "display_name": "Python 3",
   "language": "python",
   "name": "python3"
  },
  "language_info": {
   "codemirror_mode": {
    "name": "ipython",
    "version": 2
   },
   "file_extension": ".py",
   "mimetype": "text/x-python",
   "name": "python",
   "nbconvert_exporter": "python",
   "pygments_lexer": "ipython2",
   "version": "2.7.6"
  }
 },
 "nbformat": 4,
 "nbformat_minor": 5
}
