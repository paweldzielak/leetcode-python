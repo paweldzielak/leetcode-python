{
 "cells": [
  {
   "cell_type": "code",
   "execution_count": 4,
   "id": "initial_id",
   "metadata": {
    "collapsed": true,
    "ExecuteTime": {
     "end_time": "2025-02-05T06:53:20.846065Z",
     "start_time": "2025-02-05T06:53:20.841217Z"
    }
   },
   "outputs": [
    {
     "data": {
      "text/plain": "4"
     },
     "execution_count": 4,
     "metadata": {},
     "output_type": "execute_result"
    }
   ],
   "source": [
    "from typing import List\n",
    "\n",
    "def search(self, nums: List[int], target: int) -> int:\n",
    "    l = 0\n",
    "    r = len(nums) - 1\n",
    "    \n",
    "    while l <= r:\n",
    "        m = l + ((r-l) // 2)\n",
    "        if nums[m] == target:\n",
    "            return m\n",
    "        if target < nums[m]:\n",
    "            r = m - 1\n",
    "        else:\n",
    "            l = m + 1 \n",
    "        \n",
    "    return -1\n",
    "\n",
    "\n",
    "search(None, [-1,0,3,5,9,12], 9)"
   ]
  }
 ],
 "metadata": {
  "kernelspec": {
   "display_name": "Python 3",
   "language": "python",
   "name": "python3"
  },
  "language_info": {
   "codemirror_mode": {
    "name": "ipython",
    "version": 2
   },
   "file_extension": ".py",
   "mimetype": "text/x-python",
   "name": "python",
   "nbconvert_exporter": "python",
   "pygments_lexer": "ipython2",
   "version": "2.7.6"
  }
 },
 "nbformat": 4,
 "nbformat_minor": 5
}
