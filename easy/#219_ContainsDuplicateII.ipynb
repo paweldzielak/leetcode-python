{
 "cells": [
  {
   "cell_type": "code",
   "execution_count": null,
   "id": "initial_id",
   "metadata": {
    "collapsed": true,
    "is_executing": true
   },
   "outputs": [],
   "source": [
    "from typing import List\n",
    "\n",
    "\n",
    "def containsNearbyDuplicate(self, nums: List[int], k: int) -> bool:\n",
    "        if 25 < len(nums) == len(set(nums)):\n",
    "            return False\n",
    "\n",
    "        for i in range(len(nums)):\n",
    "            \n",
    "            max_j = i + k\n",
    "            \n",
    "            for j in range(i+1, min(max_j+1, len(nums))):\n",
    "                if nums[i] == nums[j]:\n",
    "                    return True\n",
    "        return False \n",
    "\n",
    "\n",
    "# print(containsNearbyDuplicate(None, [1,2,3,1], k = 3), \"| true\")\n",
    "print(containsNearbyDuplicate(None, [1,0,1,1], k = 1), \"| true\")\n",
    "# print(containsNearbyDuplicate(None, [1,0,1,1], k = 1), \"| true\")\n",
    "# print(containsNearbyDuplicate(None, [1,2,3,1,2,3], k = 2), \"| false\")\n",
    "# print(containsNearbyDuplicate(None, [1,2,3,1], k = 3), \"| true\")\n",
    "# print(containsNearbyDuplicate(None, [1,2,3,1,2,3], k = 2), \"| false\")"
   ]
  }
 ],
 "metadata": {
  "kernelspec": {
   "display_name": "Python 3",
   "language": "python",
   "name": "python3"
  },
  "language_info": {
   "codemirror_mode": {
    "name": "ipython",
    "version": 2
   },
   "file_extension": ".py",
   "mimetype": "text/x-python",
   "name": "python",
   "nbconvert_exporter": "python",
   "pygments_lexer": "ipython2",
   "version": "2.7.6"
  }
 },
 "nbformat": 4,
 "nbformat_minor": 5
}
