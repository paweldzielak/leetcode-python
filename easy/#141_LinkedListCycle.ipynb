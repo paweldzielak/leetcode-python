{
 "cells": [
  {
   "cell_type": "code",
   "execution_count": 6,
   "id": "initial_id",
   "metadata": {
    "collapsed": true,
    "ExecuteTime": {
     "end_time": "2025-01-19T15:53:40.798782Z",
     "start_time": "2025-01-19T15:53:40.794410Z"
    }
   },
   "outputs": [
    {
     "name": "stdout",
     "output_type": "stream",
     "text": [
      "True\n"
     ]
    }
   ],
   "source": [
    "from typing import Optional, List\n",
    "\n",
    "import sys\n",
    "sys.path.append(\"../linkedList\")\n",
    "\n",
    "from linkedList import list_to_LL, ListNode\n",
    "def hasCycle(self, head: Optional[ListNode]) -> bool:\n",
    "    visited = set()\n",
    "    D = head\n",
    "    \n",
    "    s\n",
    "    \n",
    "    \n",
    "    while head.next:\n",
    "        temp = head.next\n",
    "        if temp == None:\n",
    "            return False\n",
    "        \n",
    "        temp_id = id(temp)\n",
    "        if temp_id in visited:  \n",
    "            return True\n",
    "        \n",
    "        visited.add(id(head))\n",
    "        head = head.next\n",
    "\n",
    "    return True\n",
    "\n",
    "print(hasCycle(None, list_to_LL([3,2,0,-4])))"
   ]
  },
  {
   "cell_type": "code",
   "outputs": [
    {
     "name": "stdout",
     "output_type": "stream",
     "text": [
      "ListNode(val=2, next={ListNode(val=0, next={ListNode(val=-4, next={None})})}) ListNode(val=3, next={ListNode(val=2, next={ListNode(val=0, next={ListNode(val=-4, next={None})})})})\n",
      "ListNode(val=-4, next={None}) ListNode(val=2, next={ListNode(val=0, next={ListNode(val=-4, next={None})})})\n",
      "False\n"
     ]
    }
   ],
   "source": [
    "def hasCycle(self, head: Optional[ListNode]) -> bool:\n",
    "    dummy = ListNode()\n",
    "    dummy.next = head\n",
    "    slow = fast = dummy\n",
    "    \n",
    "    while fast and fast.next:\n",
    "        fast = fast.next.next\n",
    "        slow = slow.next\n",
    "        \n",
    "        print(fast, slow)\n",
    "        \n",
    "        if slow is fast:\n",
    "            return True\n",
    "    \n",
    "    return False\n",
    "\n",
    "\n",
    "print(hasCycle(None, list_to_LL([3,2,0,-4])))   "
   ],
   "metadata": {
    "collapsed": false,
    "ExecuteTime": {
     "end_time": "2025-01-19T16:14:08.839743Z",
     "start_time": "2025-01-19T16:14:08.835348Z"
    }
   },
   "id": "c3b399dcace27fa9",
   "execution_count": 12
  },
  {
   "cell_type": "code",
   "outputs": [],
   "source": [
    "pri"
   ],
   "metadata": {
    "collapsed": false
   },
   "id": "82d335cc74c9d8e6"
  }
 ],
 "metadata": {
  "kernelspec": {
   "display_name": "Python 3",
   "language": "python",
   "name": "python3"
  },
  "language_info": {
   "codemirror_mode": {
    "name": "ipython",
    "version": 2
   },
   "file_extension": ".py",
   "mimetype": "text/x-python",
   "name": "python",
   "nbconvert_exporter": "python",
   "pygments_lexer": "ipython2",
   "version": "2.7.6"
  }
 },
 "nbformat": 4,
 "nbformat_minor": 5
}
