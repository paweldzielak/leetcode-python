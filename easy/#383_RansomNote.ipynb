{
 "cells": [
  {
   "cell_type": "code",
   "execution_count": 6,
   "id": "initial_id",
   "metadata": {
    "collapsed": true,
    "ExecuteTime": {
     "end_time": "2025-01-03T19:11:00.178894900Z",
     "start_time": "2025-01-03T19:11:00.161537600Z"
    }
   },
   "outputs": [
    {
     "data": {
      "text/plain": "False"
     },
     "execution_count": 6,
     "metadata": {},
     "output_type": "execute_result"
    }
   ],
   "source": [
    "from collections import defaultdict\n",
    "\n",
    "def canConstruct(self, ransomNote: str, magazine: str) -> bool:\n",
    "    s_ = set(magazine)\n",
    "    used_letters = defaultdict(int)\n",
    "     \n",
    "    for letter in ransomNote:\n",
    "        used_letters[letter] += 1\n",
    "        if letter not in s_:\n",
    "            return False\n",
    "    \n",
    "    for used_letter, count in used_letters.items():\n",
    "        if count > magazine.count(used_letter):\n",
    "            return False\n",
    "    \n",
    "    return True\n",
    "\n",
    "\n",
    "canConstruct(None, \"aa\", \"aab\")\n",
    "canConstruct(None, ransomNote=\"aa\", magazine=\"ab\")"
   ]
  }
 ],
 "metadata": {
  "kernelspec": {
   "display_name": "Python 3",
   "language": "python",
   "name": "python3"
  },
  "language_info": {
   "codemirror_mode": {
    "name": "ipython",
    "version": 2
   },
   "file_extension": ".py",
   "mimetype": "text/x-python",
   "name": "python",
   "nbconvert_exporter": "python",
   "pygments_lexer": "ipython2",
   "version": "2.7.6"
  }
 },
 "nbformat": 4,
 "nbformat_minor": 5
}
