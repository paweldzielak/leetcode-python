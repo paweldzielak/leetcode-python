{
 "cells": [
  {
   "cell_type": "code",
   "execution_count": 16,
   "id": "initial_id",
   "metadata": {
    "collapsed": true,
    "ExecuteTime": {
     "end_time": "2025-01-04T08:31:59.440382200Z",
     "start_time": "2025-01-04T08:31:59.429106400Z"
    }
   },
   "outputs": [
    {
     "name": "stdout",
     "output_type": "stream",
     "text": [
      "fl 2 1\n",
      "fl\n"
     ]
    }
   ],
   "source": [
    "from typing import List\n",
    "def longestCommonPrefix(self, strs: List[str]) -> str:\n",
    "    common_chars = set(strs[0])\n",
    "    for str_ in strs[1:]:\n",
    "        common_chars = common_chars & set(str_)\n",
    "        \n",
    "    if len(common_chars) == 0:\n",
    "        return \"\"\n",
    "    \n",
    "    sorted_strs = sorted(strs, key=len)\n",
    "        \n",
    "    counter = 0\n",
    "    last_matched_idx = 0\n",
    "    for idx, char in enumerate(sorted_strs[0]):\n",
    "        if counter == len(common_chars):\n",
    "            result = sorted_strs[0][last_matched_idx + 1 - counter:last_matched_idx + 1]\n",
    "            return result\n",
    "        if char in common_chars:\n",
    "            if idx - last_matched_idx == 1 or counter == 0:\n",
    "                last_matched_idx = idx\n",
    "                counter += 1\n",
    "    result = sorted_strs[0][last_matched_idx + 1 - counter:last_matched_idx + 1]\n",
    "    return result\n",
    "\n",
    "print(longestCommonPrefix(None, [\"flower\",\"flow\",\"flight\"]))\n",
    "# longestCommonPrefix(None, [\"dog\",\"racecar\",\"car\"])"
   ]
  },
  {
   "cell_type": "code",
   "outputs": [
    {
     "data": {
      "text/plain": "'fl'"
     },
     "execution_count": 15,
     "metadata": {},
     "output_type": "execute_result"
    }
   ],
   "source": [
    "from typing import List\n",
    "\n",
    "def longestCommonPrefix(self, strs: List[str]) -> str:\n",
    "    if len(strs) == 1:\n",
    "        return strs[0]\n",
    "    common_chars = set(strs[0])\n",
    "    for str_ in strs[1:]:\n",
    "        common_chars = common_chars & set(str_)\n",
    "\n",
    "    if len(common_chars) == 0:\n",
    "        return \"\"\n",
    "    if len(common_chars) == strs[0]:\n",
    "        return strs[0]\n",
    "\n",
    "    max_idx = 0\n",
    "    for idx, char in enumerate(strs[0]):\n",
    "        for str_ in strs[1:]:\n",
    "            if len(str_) - 1 < idx or str_[idx] not in common_chars or str_[idx] != char:\n",
    "                result = str_[:max_idx]\n",
    "                return result\n",
    "        max_idx += 1\n",
    "\n",
    "    return strs[0][:max_idx]\n",
    "\n",
    "\n",
    "# print(longestCommonPrefix(None, [\"flower\",\"flow\",\"flight\"]))\n",
    "# print(longestCommonPrefix(None, [\"dog\",\"racecar\",\"car\"]))\n",
    "# print(longestCommonPrefix(None, [\"reflower\",\"flow\",\"flight\"]))\n",
    "# print(longestCommonPrefix(None, [\"ab\", \"a\"]))\n",
    "print(longestCommonPrefix(None, [\"flower\", \"flower\", \"flower\", \"flower\"]))"
   ],
   "metadata": {
    "collapsed": false,
    "ExecuteTime": {
     "end_time": "2025-01-04T08:31:10.731382900Z",
     "start_time": "2025-01-04T08:31:10.715496200Z"
    }
   },
   "id": "389efff9e37859c9",
   "execution_count": 15
  },
  {
   "cell_type": "code",
   "outputs": [
    {
     "data": {
      "text/plain": "{'a', 'd'}"
     },
     "execution_count": 6,
     "metadata": {},
     "output_type": "execute_result"
    }
   ],
   "source": [
    "s1 = {'a', 'b', 'c'}\n",
    "s2 = {'b', 'c', 'd'}\n",
    "\n",
    "\n",
    "# s1 |= s2 # -> {'a', 'b', 'c', 'd'}\n",
    "s1 ^= s2 # -> {'b', 'c'}\n",
    "s1.symmetric_difference_update(s2)\n",
    "s1"
   ],
   "metadata": {
    "collapsed": false,
    "ExecuteTime": {
     "end_time": "2025-01-04T17:32:56.598262Z",
     "start_time": "2025-01-04T17:32:56.591834Z"
    }
   },
   "id": "c00685e862ed5faa",
   "execution_count": 6
  }
 ],
 "metadata": {
  "kernelspec": {
   "display_name": "Python 3",
   "language": "python",
   "name": "python3"
  },
  "language_info": {
   "codemirror_mode": {
    "name": "ipython",
    "version": 2
   },
   "file_extension": ".py",
   "mimetype": "text/x-python",
   "name": "python",
   "nbconvert_exporter": "python",
   "pygments_lexer": "ipython2",
   "version": "2.7.6"
  }
 },
 "nbformat": 4,
 "nbformat_minor": 5
}
