{
 "cells": [
  {
   "cell_type": "code",
   "execution_count": 33,
   "id": "initial_id",
   "metadata": {
    "collapsed": true,
    "ExecuteTime": {
     "end_time": "2025-02-07T07:10:31.469533Z",
     "start_time": "2025-02-07T07:10:31.465329Z"
    }
   },
   "outputs": [
    {
     "name": "stdout",
     "output_type": "stream",
     "text": [
      "False\n",
      "False\n",
      "True\n",
      "False\n"
     ]
    }
   ],
   "source": [
    "def isPerfectSquare(self, num: int) -> bool:\n",
    "    \n",
    "    l = 1\n",
    "    r = num\n",
    "    \n",
    "    if l == num:\n",
    "        return True\n",
    "    \n",
    "    while l <= r:\n",
    "        m = l + ((r -l) // 2)\n",
    "        m_squered = m ** 2\n",
    "        if m_squered == num:\n",
    "            return True\n",
    "        if num < m_squered:\n",
    "            l = m + 1\n",
    "        if m_squered < num:\n",
    "            r += 2\n",
    "    \n",
    "    return False\n",
    "\n",
    "print(isPerfectSquare(None, 16))\n",
    "print(isPerfectSquare(None, 14))\n",
    "print(isPerfectSquare(None, 4))\n",
    "print(isPerfectSquare(None, 100))"
   ]
  }
 ],
 "metadata": {
  "kernelspec": {
   "display_name": "Python 3",
   "language": "python",
   "name": "python3"
  },
  "language_info": {
   "codemirror_mode": {
    "name": "ipython",
    "version": 2
   },
   "file_extension": ".py",
   "mimetype": "text/x-python",
   "name": "python",
   "nbconvert_exporter": "python",
   "pygments_lexer": "ipython2",
   "version": "2.7.6"
  }
 },
 "nbformat": 4,
 "nbformat_minor": 5
}
