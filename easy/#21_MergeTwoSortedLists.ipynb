{
 "cells": [
  {
   "cell_type": "code",
   "execution_count": null,
   "id": "initial_id",
   "metadata": {
    "collapsed": true
   },
   "outputs": [],
   "source": [
    "from typing import Optional, List\n",
    "\n",
    "import sys\n",
    "sys.path.append(\"../linkedList\")\n",
    "\n",
    "from linkedList import list_to_LL, ListNode\n",
    "\n",
    "def mergeTwoLists(self, list1: Optional[ListNode], list2: Optional[ListNode]) -> Optional[ListNode]:\n",
    "    \n",
    "    current1 = list1\n",
    "    current2 = list2\n",
    "    \n",
    "    if current1.next or current2.next:\n",
    "        \n",
    "        temp_val1 = current1.val \n",
    "        temp_val2 = current2.val\n",
    "        # print(\"** while\")\n",
    "        # print(f\"{temp1=}, {temp2=}\")\n",
    "        \n",
    "        while temp_val1 is not None and temp_val2 is not None:\n",
    "\n",
    "            if temp_val1 == temp_val2:\n",
    "                current1.val = temp_val1\n",
    "                current1.next = current2.next\n",
    "                \n",
    "                \n",
    "            while temp_val1 is not None and temp_val1 < temp_val2:\n",
    "                # print(\"1# nested while\")\n",
    "                current1.val = temp_val1\n",
    "                current1.next = current1.next\n",
    "                temp_val1 = current1.next\n",
    "                \n",
    "            while temp_val1 is not None and temp_val1 > temp_val2:\n",
    "                # print(\"2# nested while\")\n",
    "                current1.val = temp_val2\n",
    "                current1.next = current1.val\n",
    "                current2.next = current2.next.next\n",
    "                temp_val2 = current2.next\n",
    "            \n",
    "        while temp_val1 is None and temp_val2 is not None:\n",
    "            print(f\"last while {temp_val2=}\")\n",
    "            \n",
    "            current1.next = current2.val\n",
    "            temp_val2 = current2.next\n",
    "            if temp_val2 is not None:\n",
    "                current2.next = current2.next.next\n",
    "        \n",
    "            print(f\"{list1=}\")\n",
    "            \n",
    "    return current1\n",
    "\n",
    "\n",
    "\n",
    "\n",
    "print(mergeTwoLists(None, list_to_LL([1]), list_to_LL([2,3])))\n",
    "# print(mergeTwoLists(None, list_to_LL([1,2,4]), list_to_LL([1,3,4])))\n",
    "# print(mergeTwoLists(None, list_to_LL([]), list_to_LL([0])))"
   ]
  },
  {
   "cell_type": "code",
   "outputs": [
    {
     "name": "stdout",
     "output_type": "stream",
     "text": [
      "1817945162432 1817945167472\n",
      "8682905901045 113621572967\n"
     ]
    },
    {
     "data": {
      "text/plain": "('result:',\n ListNode(val=1, next={ListNode(val=1, next={ListNode(val=2, next={ListNode(val=3, next={ListNode(val=4, next={ListNode(val=4, next={None})})})})})}))"
     },
     "execution_count": 26,
     "metadata": {},
     "output_type": "execute_result"
    }
   ],
   "source": [
    "def mergeTwoLists(self, list1: Optional[ListNode], list2: Optional[ListNode]) -> Optional[ListNode]:\n",
    "    \n",
    "    d = ListNode()\n",
    "    current = d\n",
    "\n",
    "    while list1 and list2:\n",
    "        if list1.val < list2.val:\n",
    "            current.next = list1\n",
    "            current = list1\n",
    "            list1 = list1.next\n",
    "        else:\n",
    "            current.next = list2\n",
    "            current = list2\n",
    "            list2 = list2.next\n",
    "    \n",
    "    current.next = list1 or list2\n",
    "    print(id(d), id(current))\n",
    "    print(hash(id), hash(current))\n",
    "    return d.next\n",
    "\n",
    "    \n",
    "\n",
    "# print(\"result:\", mergeTwoLists(None, list_to_LL([1]), list_to_LL([2,3])))\n",
    "\"result:\", mergeTwoLists(None, list_to_LL([1,2,4]), list_to_LL([1,3,4]))"
   ],
   "metadata": {
    "collapsed": false,
    "ExecuteTime": {
     "end_time": "2025-01-19T14:10:57.958108Z",
     "start_time": "2025-01-19T14:10:57.950781Z"
    }
   },
   "id": "85ed5de21f4b7097",
   "execution_count": 26
  },
  {
   "cell_type": "code",
   "outputs": [
    {
     "name": "stdout",
     "output_type": "stream",
     "text": [
      "1 d=ListNode(val=0, next={None}), current=ListNode(val=0, next={None})\n",
      "2 d=ListNode(val=0, next={ListNode(val=1, next={ListNode(val=3, next={ListNode(val=4, next={None})})})}), current=ListNode(val=1, next={ListNode(val=3, next={ListNode(val=4, next={None})})})\n",
      "3 d=ListNode(val=0, next={ListNode(val=1, next={ListNode(val=1, next={ListNode(val=2, next={ListNode(val=4, next={None})})})})}), current=ListNode(val=1, next={ListNode(val=2, next={ListNode(val=4, next={None})})})\n",
      "4 d=ListNode(val=0, next={ListNode(val=1, next={ListNode(val=1, next={ListNode(val=2, next={ListNode(val=4, next={None})})})})}), current=ListNode(val=2, next={ListNode(val=4, next={None})})\n",
      "5 d=ListNode(val=0, next={ListNode(val=1, next={ListNode(val=1, next={ListNode(val=2, next={ListNode(val=3, next={ListNode(val=4, next={None})})})})})}), current=ListNode(val=3, next={ListNode(val=4, next={None})})\n",
      "1817945163632 1817945168720\n",
      "8682905901045 113621573045\n"
     ]
    },
    {
     "data": {
      "text/plain": "('result:',\n ListNode(val=1, next={ListNode(val=1, next={ListNode(val=2, next={ListNode(val=3, next={ListNode(val=4, next={ListNode(val=4, next={None})})})})})}))"
     },
     "execution_count": 31,
     "metadata": {},
     "output_type": "execute_result"
    }
   ],
   "source": [
    "def mergeTwoLists(self, list1: Optional[ListNode], list2: Optional[ListNode]) -> Optional[ListNode]:\n",
    "    \n",
    "    d = ListNode()\n",
    "    current = d\n",
    "\n",
    "    counter = 0\n",
    "    while list1 and list2:\n",
    "        counter += 1\n",
    "        print(counter, f\"{d=}, {current=}\")\n",
    "        if list1.val < list2.val:\n",
    "            current.next = list1\n",
    "            current = list1\n",
    "            list1 = list1.next\n",
    "        else:\n",
    "            current.next = list2\n",
    "            current = list2\n",
    "            list2 = list2.next\n",
    "    \n",
    "    current.next = list1 or list2\n",
    "    print(id(d), id(current))\n",
    "    print(hash(id), hash(current))\n",
    "    return d.next\n",
    "\n",
    "    \n",
    "\n",
    "# print(\"result:\", mergeTwoLists(None, list_to_LL([1]), list_to_LL([2,3])))\n",
    "\"result:\", mergeTwoLists(None, list_to_LL([1,2,4]), list_to_LL([1,3,4]))"
   ],
   "metadata": {
    "collapsed": false,
    "ExecuteTime": {
     "end_time": "2025-01-19T14:14:05.857758Z",
     "start_time": "2025-01-19T14:14:05.852475Z"
    }
   },
   "id": "b356cffe52496439",
   "execution_count": 31
  },
  {
   "cell_type": "code",
   "outputs": [],
   "source": [
    "None or \"aaa\""
   ],
   "metadata": {
    "collapsed": false
   },
   "id": "9ce12f6ab846bff1",
   "execution_count": null
  }
 ],
 "metadata": {
  "kernelspec": {
   "display_name": "Python 3",
   "language": "python",
   "name": "python3"
  },
  "language_info": {
   "codemirror_mode": {
    "name": "ipython",
    "version": 2
   },
   "file_extension": ".py",
   "mimetype": "text/x-python",
   "name": "python",
   "nbconvert_exporter": "python",
   "pygments_lexer": "ipython2",
   "version": "2.7.6"
  }
 },
 "nbformat": 4,
 "nbformat_minor": 5
}
