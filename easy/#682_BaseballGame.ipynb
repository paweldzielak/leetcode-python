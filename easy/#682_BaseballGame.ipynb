{
 "cells": [
  {
   "cell_type": "code",
   "execution_count": 15,
   "id": "initial_id",
   "metadata": {
    "collapsed": true,
    "ExecuteTime": {
     "end_time": "2025-01-16T09:22:05.886590Z",
     "start_time": "2025-01-16T09:22:05.876427Z"
    }
   },
   "outputs": [
    {
     "name": "stdout",
     "output_type": "stream",
     "text": [
      "30 || 30\n",
      "27 || 27\n",
      "0 || 0\n"
     ]
    }
   ],
   "source": [
    "from typing import List\n",
    "\n",
    "def calPoints(self, operations: List[str]) -> int:\n",
    "    record = []\n",
    "    for op in operations:\n",
    "        if op == '+':\n",
    "            record.append(record[-1] + record[-2])\n",
    "        elif op == 'D':\n",
    "            record.append(record[-1] * 2)\n",
    "        elif op == 'C':\n",
    "            record.pop()\n",
    "        else:\n",
    "            record.append(int(op))\n",
    "    \n",
    "    return sum(record)\n",
    "\n",
    "\n",
    "print(calPoints(None, [\"5\",\"2\",\"C\",\"D\",\"+\"]), \"|| 30\")\n",
    "print(calPoints(None, [\"5\",\"-2\",\"4\",\"C\",\"D\",\"9\",\"+\",\"+\"]), \"|| 27\")\n",
    "print(calPoints(None, [\"1\",\"C\"]), \"|| 0\")"
   ]
  }
 ],
 "metadata": {
  "kernelspec": {
   "display_name": "Python 3",
   "language": "python",
   "name": "python3"
  },
  "language_info": {
   "codemirror_mode": {
    "name": "ipython",
    "version": 2
   },
   "file_extension": ".py",
   "mimetype": "text/x-python",
   "name": "python",
   "nbconvert_exporter": "python",
   "pygments_lexer": "ipython2",
   "version": "2.7.6"
  }
 },
 "nbformat": 4,
 "nbformat_minor": 5
}
