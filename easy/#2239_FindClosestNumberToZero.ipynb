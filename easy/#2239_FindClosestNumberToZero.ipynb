{
 "cells": [
  {
   "cell_type": "code",
   "execution_count": 25,
   "id": "initial_id",
   "metadata": {
    "collapsed": true,
    "ExecuteTime": {
     "end_time": "2024-11-11T11:00:56.089771700Z",
     "start_time": "2024-11-11T11:00:56.044166800Z"
    }
   },
   "outputs": [
    {
     "name": "stdout",
     "output_type": "stream",
     "text": [
      "1\n",
      "1\n"
     ]
    },
    {
     "data": {
      "text/plain": "(None, None)"
     },
     "execution_count": 25,
     "metadata": {},
     "output_type": "execute_result"
    }
   ],
   "source": [
    "def findClosestNumber(nums: list[int]) -> int:\n",
    "    result = nums[0]\n",
    "    abs_result = abs(result)\n",
    "    for i in nums[1:]:\n",
    "        current_result = abs(i)\n",
    "        if abs_result > current_result or (abs_result == current_result and i > result):\n",
    "            result = i\n",
    "            abs_result = abs(result)\n",
    "    return result\n",
    "    \n",
    "    \n",
    "    \n",
    "    \n",
    "\n",
    "\n",
    "\n",
    "test1 = [-4,-2,1,4,8]\n",
    "test2 = [2,-1,1]\n",
    "\n",
    "print(findClosestNumber(test1)), print(findClosestNumber(test2))"
   ]
  }
 ],
 "metadata": {
  "kernelspec": {
   "display_name": "Python 3",
   "language": "python",
   "name": "python3"
  },
  "language_info": {
   "codemirror_mode": {
    "name": "ipython",
    "version": 2
   },
   "file_extension": ".py",
   "mimetype": "text/x-python",
   "name": "python",
   "nbconvert_exporter": "python",
   "pygments_lexer": "ipython2",
   "version": "2.7.6"
  }
 },
 "nbformat": 4,
 "nbformat_minor": 5
}
