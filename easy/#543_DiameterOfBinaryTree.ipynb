{
 "cells": [
  {
   "cell_type": "code",
   "id": "initial_id",
   "metadata": {
    "collapsed": true,
    "ExecuteTime": {
     "end_time": "2025-07-27T18:05:44.343419Z",
     "start_time": "2025-07-27T18:05:44.338328Z"
    }
   },
   "source": [
    "from typing import Optional\n",
    "\n",
    "class TreeNode:\n",
    "    def __init__(self, val=0, left=None, right=None):\n",
    "        self.val = val\n",
    "        self.left = left\n",
    "        self.right = right\n",
    "\n",
    "    def __str__(self):\n",
    "        return str(self.val)"
   ],
   "outputs": [],
   "execution_count": 1
  },
  {
   "metadata": {
    "jupyter": {
     "is_executing": true
    }
   },
   "cell_type": "code",
   "source": [
    "class Solution:\n",
    "    def diameterOfBinaryTree(self, root: Optional[TreeNode]) -> int:\n",
    "        self.max_diameter = 0 # we can also use nonlocal scope declaring keyword\n",
    "        def height(node) -> int:\n",
    "            if not node:\n",
    "                return 0\n",
    "\n",
    "            left_height = height(node.left)\n",
    "            right_height = height(node.right)\n",
    "\n",
    "            diameter = left_height + right_height\n",
    "            self.max_diameter = max(self.max_diameter, diameter)\n",
    "\n",
    "            return 1 + max(left_height, right_height)\n",
    "        height(root)\n",
    "        return self.max_diameter"
   ],
   "id": "91dd0e0347a04c8",
   "outputs": [],
   "execution_count": null
  },
  {
   "metadata": {},
   "cell_type": "code",
   "outputs": [],
   "execution_count": null,
   "source": "",
   "id": "459d73999965d15f"
  }
 ],
 "metadata": {
  "kernelspec": {
   "display_name": "Python 3",
   "language": "python",
   "name": "python3"
  },
  "language_info": {
   "codemirror_mode": {
    "name": "ipython",
    "version": 2
   },
   "file_extension": ".py",
   "mimetype": "text/x-python",
   "name": "python",
   "nbconvert_exporter": "python",
   "pygments_lexer": "ipython2",
   "version": "2.7.6"
  }
 },
 "nbformat": 4,
 "nbformat_minor": 5
}
