{
 "cells": [
  {
   "cell_type": "code",
   "execution_count": 8,
   "id": "initial_id",
   "metadata": {
    "collapsed": true,
    "ExecuteTime": {
     "end_time": "2025-01-01T19:18:15.008651800Z",
     "start_time": "2025-01-01T19:18:14.990706500Z"
    }
   },
   "outputs": [
    {
     "data": {
      "text/plain": "3"
     },
     "execution_count": 8,
     "metadata": {},
     "output_type": "execute_result"
    }
   ],
   "source": [
    "jewels = \"aA\"\n",
    "stones = \"aAAbbbb\"\n",
    "\n",
    "def numJewelsInStones(self, jewels: str, stones: str) -> int:\n",
    "    s1 = set(jewels)\n",
    "    s2 = set(stones)\n",
    "    \n",
    "    intersection = len(s1 & s2)\n",
    "    if intersection == 0:\n",
    "        return 0\n",
    "    else: \n",
    "        return sum([jewels.count(s) for s in stones if s in s1])\n",
    "    \n",
    "    \n",
    "numJewelsInStones(None, jewels, stones)"
   ]
  },
  {
   "cell_type": "code",
   "outputs": [
    {
     "data": {
      "text/plain": "6"
     },
     "execution_count": 6,
     "metadata": {},
     "output_type": "execute_result"
    }
   ],
   "source": [
    "\"aaaaaa\".count('a')"
   ],
   "metadata": {
    "collapsed": false,
    "ExecuteTime": {
     "end_time": "2025-01-01T19:17:11.183650700Z",
     "start_time": "2025-01-01T19:17:11.166981800Z"
    }
   },
   "id": "f75d4547670d8f3c",
   "execution_count": 6
  }
 ],
 "metadata": {
  "kernelspec": {
   "display_name": "Python 3",
   "language": "python",
   "name": "python3"
  },
  "language_info": {
   "codemirror_mode": {
    "name": "ipython",
    "version": 2
   },
   "file_extension": ".py",
   "mimetype": "text/x-python",
   "name": "python",
   "nbconvert_exporter": "python",
   "pygments_lexer": "ipython2",
   "version": "2.7.6"
  }
 },
 "nbformat": 4,
 "nbformat_minor": 5
}
