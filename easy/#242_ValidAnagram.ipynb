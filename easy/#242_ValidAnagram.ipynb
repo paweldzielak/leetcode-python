{
 "cells": [
  {
   "cell_type": "code",
   "execution_count": 8,
   "id": "initial_id",
   "metadata": {
    "collapsed": true,
    "ExecuteTime": {
     "end_time": "2025-01-03T19:28:33.113946800Z",
     "start_time": "2025-01-03T19:28:33.109326100Z"
    }
   },
   "outputs": [],
   "source": [
    "from collections import defaultdict\n",
    "\n",
    "def isAnagram(self, s: str, t: str) -> bool:\n",
    "    if len(s) != len(t):\n",
    "        return False\n",
    "    \n",
    "    t_ = set(t)\n",
    "    d = defaultdict(int)\n",
    "    \n",
    "    for char in s:\n",
    "        if char not in t_:\n",
    "            return False\n",
    "        d[char] += 1\n",
    "    for char, count in d.items():\n",
    "        if count > t.count(char):\n",
    "            return False\n",
    "    return True\n",
    "    "
   ]
  },
  {
   "cell_type": "code",
   "outputs": [
    {
     "name": "stdout",
     "output_type": "stream",
     "text": [
      "False\n",
      "True\n",
      "True\n",
      "False\n"
     ]
    }
   ],
   "source": [
    "print(isAnagram(None, \"egg\", \"add\"))\n",
    "print(isAnagram(None, \"anagram\", \"anagram\"))\n",
    "print(isAnagram(None, \"anagram\", \"nagaram\"))\n",
    "print(isAnagram(None, \"rat\", \"car\"))"
   ],
   "metadata": {
    "collapsed": false,
    "ExecuteTime": {
     "end_time": "2025-01-03T19:29:30.092896800Z",
     "start_time": "2025-01-03T19:29:30.077899300Z"
    }
   },
   "id": "2ca476072f0b061c",
   "execution_count": 14
  },
  {
   "cell_type": "code",
   "outputs": [
    {
     "name": "stdout",
     "output_type": "stream",
     "text": [
      "i=0, a, -1 -> m\n",
      "i=1, n, -2 -> a\n",
      "i=2, a, -3 -> r\n",
      "i=3, g, -4 -> a\n",
      "i=4, r, -5 -> g\n",
      "i=5, a, -6 -> a\n",
      "i=6, m, -7 -> n\n",
      "3\n"
     ]
    }
   ],
   "source": [
    "s =  \"anagram\"\n",
    "# s =  \"anagram\"\n",
    "s_len = len(s)\n",
    "middle_index = s_len // 2 \n",
    "t = \"nagaram\"\n",
    "\n",
    "\n",
    "for i in range(s_len):\n",
    "    inverted_index = 0-(i+1) \n",
    "    print(f\"{i=}, {s[i]}, {inverted_index} -> {t[inverted_index]}\")\n",
    "\n",
    "print(middle_index)"
   ],
   "metadata": {
    "collapsed": false,
    "ExecuteTime": {
     "end_time": "2025-01-03T19:28:34.047588400Z",
     "start_time": "2025-01-03T19:28:34.043575100Z"
    }
   },
   "id": "43104588d05c2297",
   "execution_count": 9
  }
 ],
 "metadata": {
  "kernelspec": {
   "display_name": "Python 3",
   "language": "python",
   "name": "python3"
  },
  "language_info": {
   "codemirror_mode": {
    "name": "ipython",
    "version": 2
   },
   "file_extension": ".py",
   "mimetype": "text/x-python",
   "name": "python",
   "nbconvert_exporter": "python",
   "pygments_lexer": "ipython2",
   "version": "2.7.6"
  }
 },
 "nbformat": 4,
 "nbformat_minor": 5
}
