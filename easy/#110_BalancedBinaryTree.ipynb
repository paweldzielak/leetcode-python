{
 "cells": [
  {
   "cell_type": "code",
   "id": "initial_id",
   "metadata": {
    "collapsed": true,
    "ExecuteTime": {
     "end_time": "2025-07-27T17:14:08.364427Z",
     "start_time": "2025-07-27T17:14:08.357987Z"
    }
   },
   "source": [
    "class TreeNode:\n",
    "    def __init__(self, val=0, left=None, right=None):\n",
    "        self.val = val\n",
    "        self.left = left\n",
    "        self.right = right\n",
    "\n",
    "    def __str__(self):\n",
    "        return str(self.val)"
   ],
   "outputs": [],
   "execution_count": 1
  },
  {
   "metadata": {},
   "cell_type": "code",
   "outputs": [],
   "execution_count": null,
   "source": [
    "from typing import Optional\n",
    "class Solution:\n",
    "    def isBalanced(self, root: Optional[TreeNode]) -> bool:\n",
    "        balanced = [True]\n",
    "\n",
    "        def height(root):\n",
    "            if not root:\n",
    "                return 0\n",
    "\n",
    "            left_height = height(root.left)\n",
    "            if balanced[0] is False:\n",
    "                return 0\n",
    "\n",
    "\n",
    "            right_height = height(root.right)\n",
    "            if abs(left_height - right_height) > 1:\n",
    "                balanced[0] = False\n",
    "                return 0\n",
    "            return 1 + max(left_height, right_height)\n",
    "\n",
    "        height(root)\n",
    "        return balanced[0]\n",
    "\n"
   ],
   "id": "24adab81d2ce9b04"
  }
 ],
 "metadata": {
  "kernelspec": {
   "display_name": "Python 3",
   "language": "python",
   "name": "python3"
  },
  "language_info": {
   "codemirror_mode": {
    "name": "ipython",
    "version": 2
   },
   "file_extension": ".py",
   "mimetype": "text/x-python",
   "name": "python",
   "nbconvert_exporter": "python",
   "pygments_lexer": "ipython2",
   "version": "2.7.6"
  }
 },
 "nbformat": 4,
 "nbformat_minor": 5
}
