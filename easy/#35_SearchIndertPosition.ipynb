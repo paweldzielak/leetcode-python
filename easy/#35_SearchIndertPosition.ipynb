{
 "cells": [
  {
   "cell_type": "code",
   "execution_count": 34,
   "id": "initial_id",
   "metadata": {
    "collapsed": true,
    "ExecuteTime": {
     "end_time": "2025-02-05T07:22:13.756916Z",
     "start_time": "2025-02-05T07:22:13.751820Z"
    }
   },
   "outputs": [
    {
     "name": "stdout",
     "output_type": "stream",
     "text": [
      "0 0\n"
     ]
    }
   ],
   "source": [
    "from typing import List\n",
    "\n",
    "def searchInsert(self, nums: List[int], target: int) -> int:\n",
    "    \n",
    "    l = 0\n",
    "    r = len(nums) -1\n",
    "    if (target > nums[r]): \n",
    "        return len(nums)\n",
    "    if target < nums[l]:\n",
    "        return l\n",
    "    \n",
    "    while l <= r:\n",
    "        m = l + ((r-l) // 2)\n",
    "        current = nums[m]\n",
    "        if current == target:\n",
    "            return m\n",
    "        elif (current < target and target < nums[m + 1]):\n",
    "            return m + 1\n",
    "        if current > target:\n",
    "            r = m - 1\n",
    "        else:\n",
    "            l = m + 1\n",
    "            \n",
    "    return 0\n",
    "\n",
    "# print(searchInsert(None, [1,3,5,6], 5), 2)\n",
    "# print(searchInsert(None, [1,3,5,6], 2), 1)\n",
    "# print(searchInsert(None, [1,3,5,6], 7), 4)\n",
    "print(searchInsert(None, [1,3,5,6], 0), 0)"
   ]
  }
 ],
 "metadata": {
  "kernelspec": {
   "display_name": "Python 3",
   "language": "python",
   "name": "python3"
  },
  "language_info": {
   "codemirror_mode": {
    "name": "ipython",
    "version": 2
   },
   "file_extension": ".py",
   "mimetype": "text/x-python",
   "name": "python",
   "nbconvert_exporter": "python",
   "pygments_lexer": "ipython2",
   "version": "2.7.6"
  }
 },
 "nbformat": 4,
 "nbformat_minor": 5
}
