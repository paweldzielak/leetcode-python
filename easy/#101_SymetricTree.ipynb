{
 "cells": [
  {
   "cell_type": "code",
   "id": "initial_id",
   "metadata": {
    "collapsed": true,
    "ExecuteTime": {
     "end_time": "2025-07-27T18:05:44.343419Z",
     "start_time": "2025-07-27T18:05:44.338328Z"
    }
   },
   "source": [
    "from typing import Optional\n",
    "\n",
    "\n",
    "class TreeNode:\n",
    "    def __init__(self, val=0, left=None, right=None):\n",
    "        self.val = val\n",
    "        self.left = left\n",
    "        self.right = right\n",
    "\n",
    "    def __str__(self):\n",
    "        return str(self.val)"
   ],
   "outputs": [],
   "execution_count": 1
  },
  {
   "metadata": {
    "jupyter": {
     "is_executing": true
    }
   },
   "cell_type": "code",
   "source": [
    "class Solution:\n",
    "    def isSymmetricTree(self, root: Optional[TreeNode]) -> bool:\n",
    "        p = root.left\n",
    "        q = root.right\n",
    "        def compare(node1: Optional[TreeNode], node2: Optional[TreeNode]) -> bool:\n",
    "            if node1 is None and node2 is None:\n",
    "                return True\n",
    "            elif node1 is None or node2 is None:\n",
    "                return False\n",
    "            the_same_left = compare(node1.left, node2.right)\n",
    "            if not the_same_left:\n",
    "                return False\n",
    "            the_same_right = compare(node1.right, node2.left)\n",
    "\n",
    "            return node1.val == node2.val and the_same_left and the_same_right\n",
    "\n",
    "        return compare(p, q)"
   ],
   "id": "91dd0e0347a04c8",
   "outputs": [],
   "execution_count": null
  },
  {
   "metadata": {},
   "cell_type": "code",
   "outputs": [],
   "execution_count": null,
   "source": "",
   "id": "459d73999965d15f"
  }
 ],
 "metadata": {
  "kernelspec": {
   "display_name": "Python 3",
   "language": "python",
   "name": "python3"
  },
  "language_info": {
   "codemirror_mode": {
    "name": "ipython",
    "version": 2
   },
   "file_extension": ".py",
   "mimetype": "text/x-python",
   "name": "python",
   "nbconvert_exporter": "python",
   "pygments_lexer": "ipython2",
   "version": "2.7.6"
  }
 },
 "nbformat": 4,
 "nbformat_minor": 5
}
