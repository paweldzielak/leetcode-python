{
 "cells": [
  {
   "cell_type": "code",
   "execution_count": 9,
   "id": "initial_id",
   "metadata": {
    "collapsed": true,
    "ExecuteTime": {
     "end_time": "2025-01-19T09:41:39.164017Z",
     "start_time": "2025-01-19T09:41:39.139027Z"
    }
   },
   "outputs": [],
   "source": [
    "from typing import Optional, List\n",
    "\n",
    "import sys\n",
    "sys.path.append(\"../linkedList\")\n",
    "\n",
    "from linkedList import list_to_LL, ListNode"
   ]
  },
  {
   "cell_type": "code",
   "outputs": [
    {
     "name": "stdout",
     "output_type": "stream",
     "text": [
      "ListNode(val=1, next={ListNode(val=2, next={None})})\n",
      "ListNode(val=1, next={ListNode(val=2, next={ListNode(val=3, next={None})})})\n"
     ]
    }
   ],
   "source": [
    "def deleteDuplicates(self, head: Optional[ListNode]) -> Optional[ListNode]:\n",
    "    current = head\n",
    "    while current and current.next:\n",
    "        if current.val == current.next.val:\n",
    "            current.next = current.next.next\n",
    "        else:\n",
    "            current = current.next\n",
    "\n",
    "    return head\n",
    "\n",
    "\n",
    "print(deleteDuplicates(None, list_to_LL([1, 1, 2])))\n",
    "print(deleteDuplicates(None, list_to_LL([1, 1, 2, 3, 3])))"
   ],
   "metadata": {
    "collapsed": false,
    "ExecuteTime": {
     "end_time": "2025-01-19T09:41:47.202719Z",
     "start_time": "2025-01-19T09:41:47.197323Z"
    }
   },
   "id": "8367be93f073b079",
   "execution_count": 10
  }
 ],
 "metadata": {
  "kernelspec": {
   "display_name": "Python 3",
   "language": "python",
   "name": "python3"
  },
  "language_info": {
   "codemirror_mode": {
    "name": "ipython",
    "version": 2
   },
   "file_extension": ".py",
   "mimetype": "text/x-python",
   "name": "python",
   "nbconvert_exporter": "python",
   "pygments_lexer": "ipython2",
   "version": "2.7.6"
  }
 },
 "nbformat": 4,
 "nbformat_minor": 5
}
