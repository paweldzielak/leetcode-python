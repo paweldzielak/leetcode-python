{
 "cells": [
  {
   "cell_type": "code",
   "execution_count": 9,
   "id": "initial_id",
   "metadata": {
    "collapsed": true,
    "ExecuteTime": {
     "end_time": "2025-01-19T09:05:10.993331Z",
     "start_time": "2025-01-19T09:05:10.989095Z"
    }
   },
   "outputs": [],
   "source": [
    "from typing import Optional, List\n",
    "\n",
    "\n",
    "class ListNode:\n",
    "    def __init__(self, val=0, next=None):\n",
    "        self.val = val\n",
    "        self.next = next\n",
    "\n",
    "    def __repr__(self):\n",
    "        return \"ListNode(val=\" + str(self.val) + \", next={\" + str(self.next) + \"})\"\n",
    "\n",
    "\n",
    "def list_to_LL(arr):\n",
    "    if len(arr) < 1:\n",
    "        return None\n",
    "\n",
    "    if len(arr) == 1:\n",
    "        return ListNode(arr[0])\n",
    "    return ListNode(arr[0], next=list_to_LL(arr[1:]))\n"
   ]
  },
  {
   "cell_type": "code",
   "outputs": [
    {
     "name": "stdout",
     "output_type": "stream",
     "text": [
      "ListNode(val=1, next={ListNode(val=2, next={None})})\n",
      "ListNode(val=1, next={ListNode(val=2, next={ListNode(val=3, next={None})})})\n"
     ]
    }
   ],
   "source": [
    "def deleteDuplicates(self, head: Optional[ListNode]) -> Optional[ListNode]:\n",
    "    current = head\n",
    "    while current and current.next:\n",
    "        if current.val == current.next.val:\n",
    "            current.next = current.next.next\n",
    "        else:\n",
    "            current = current.next\n",
    "\n",
    "    return head\n",
    "\n",
    "\n",
    "print(deleteDuplicates(None, list_to_LL([1, 1, 2])))\n",
    "print(deleteDuplicates(None, list_to_LL([1, 1, 2, 3, 3])))"
   ],
   "metadata": {
    "collapsed": false,
    "ExecuteTime": {
     "end_time": "2025-01-19T09:14:21.704007Z",
     "start_time": "2025-01-19T09:14:21.698962Z"
    }
   },
   "id": "8367be93f073b079",
   "execution_count": 21
  }
 ],
 "metadata": {
  "kernelspec": {
   "display_name": "Python 3",
   "language": "python",
   "name": "python3"
  },
  "language_info": {
   "codemirror_mode": {
    "name": "ipython",
    "version": 2
   },
   "file_extension": ".py",
   "mimetype": "text/x-python",
   "name": "python",
   "nbconvert_exporter": "python",
   "pygments_lexer": "ipython2",
   "version": "2.7.6"
  }
 },
 "nbformat": 4,
 "nbformat_minor": 5
}
