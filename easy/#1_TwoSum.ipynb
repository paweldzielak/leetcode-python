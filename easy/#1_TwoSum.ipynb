{
 "cells": [
  {
   "cell_type": "code",
   "outputs": [],
   "source": [
    "from typing import List\n",
    "\n",
    "def twoSum(self, nums: List[int], target: int) -> List[int]:\n",
    "\n",
    "    filtered = {num: i for i, num in enumerate(nums)}\n",
    "    \n",
    "    for idx, num in enumerate(nums):\n",
    "        remaining = target - num\n",
    "        if remaining in filtered and filtered[remaining] != idx:\n",
    "            return [filtered[remaining], idx]\n",
    "\n",
    "\n",
    "\n",
    "# print(twoSum(None, [2,7,11,15], 9))\n",
    "# print(twoSum(None, [3,2,4], 6))\n",
    "# print(twoSum(None, [2,7,11,15], 9))\n",
    "# print(twoSum(None, [3,3], 6))\n",
    "# print(twoSum(None, [0,4,3,0], 0))\n",
    "print(twoSum(None, [-1,-2,-3,-4,-5], -8))"
   ],
   "metadata": {
    "collapsed": false
   },
   "id": "2a194d733c01df4b"
  },
  {
   "cell_type": "code",
   "execution_count": 8,
   "id": "initial_id",
   "metadata": {
    "collapsed": true,
    "ExecuteTime": {
     "end_time": "2025-01-05T09:00:16.299395Z",
     "start_time": "2025-01-05T09:00:16.289352Z"
    }
   },
   "outputs": [
    {
     "name": "stdout",
     "output_type": "stream",
     "text": [
      "num=3, remaning=3, filtered[remaning]=0\n",
      "[0, 0]\n"
     ]
    }
   ],
   "source": [
    "from typing import List\n",
    "\n",
    "# not good\n",
    "def twoSum(self, nums: List[int], target: int) -> List[int]:\n",
    "    \n",
    "    filtered = {idx: i for idx, i in enumerate(filter(lambda i: i < target, nums))}\n",
    "    if sum(filtered.keys()) == target: \n",
    "        print(\"first returning\")\n",
    "        return list(filtered.values())\n",
    "\n",
    "    current_idx = next(iter(filtered))\n",
    "    \n",
    "    s_ = set(filtered.values())\n",
    "    for idx, num in filtered[1:].items():\n",
    "        remaning = target - num\n",
    "        \n",
    "        current_filterred =  \n",
    "        \n",
    "        # print(\"remaning\", remaning)\n",
    "        if remaning in filtered[].values():\n",
    "            print(f\"{num=}, {remaning=}, {filtered[remaning]=}\")\n",
    "            return [filtered[remaning], idx]\n",
    "        \n",
    "        \n",
    "        print(f\"{remaning=}\")\n",
    "        filtered_remaning = {i_: idx_ for idx_, i_ in enumerate(filter(lambda i: i < remaning, filtered)) if idx_ != idx}\n",
    "        \n",
    "        \n",
    "        for num2, idx2 in filtered_remaning.items():\n",
    "            print(f\"{filtered_remaning.keys()=}\")\n",
    "            if sum(filtered_remaning.keys()) == remaning:\n",
    "                return [idx, *filtered_remaning.values()]\n",
    "        \n",
    "        \n",
    "        \n",
    "        print(\"next\")\n",
    "        \n",
    "    return list()\n",
    "\n",
    "\n",
    "# print(twoSum(None, [2,7,11,15], 9))\n",
    "print(twoSum(None, [3,2,4], 6))\n",
    "# print(twoSum(None, [3,3], 6))\n"
   ]
  },
  {
   "cell_type": "code",
   "outputs": [
    {
     "data": {
      "text/plain": "{0: 3, 1: 3}"
     },
     "execution_count": 16,
     "metadata": {},
     "output_type": "execute_result"
    }
   ],
   "source": [
    "t = 6\n",
    "nums = [3,3]\n",
    "\n",
    "filtered = {idx: i for idx, i in enumerate(filter(lambda i: i < t, nums))}\n",
    "filtered"
   ],
   "metadata": {
    "collapsed": false,
    "ExecuteTime": {
     "end_time": "2025-01-05T09:18:20.394800Z",
     "start_time": "2025-01-05T09:18:20.387795Z"
    }
   },
   "id": "269f4a3fdce85861",
   "execution_count": 16
  },
  {
   "cell_type": "code",
   "outputs": [
    {
     "name": "stdout",
     "output_type": "stream",
     "text": [
      "filtered={-1: 0, -2: 1, -3: 2, -4: 3, -5: 4}\n",
      "[4, 2]\n"
     ]
    }
   ],
   "source": [],
   "metadata": {
    "collapsed": false,
    "ExecuteTime": {
     "end_time": "2025-01-05T09:29:48.933520Z",
     "start_time": "2025-01-05T09:29:48.925606Z"
    }
   },
   "id": "2551aa045009a440",
   "execution_count": 30
  }
 ],
 "metadata": {
  "kernelspec": {
   "display_name": "Python 3",
   "language": "python",
   "name": "python3"
  },
  "language_info": {
   "codemirror_mode": {
    "name": "ipython",
    "version": 2
   },
   "file_extension": ".py",
   "mimetype": "text/x-python",
   "name": "python",
   "nbconvert_exporter": "python",
   "pygments_lexer": "ipython2",
   "version": "2.7.6"
  }
 },
 "nbformat": 4,
 "nbformat_minor": 5
}
