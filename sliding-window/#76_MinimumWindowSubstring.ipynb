{
 "cells": [
  {
   "cell_type": "code",
   "execution_count": 1,
   "id": "initial_id",
   "metadata": {
    "collapsed": true,
    "ExecuteTime": {
     "end_time": "2024-10-26T06:47:46.783823700Z",
     "start_time": "2024-10-26T06:47:46.771130300Z"
    }
   },
   "outputs": [],
   "source": [
    "from collections import defaultdict\n",
    "\n",
    "def check_empty_missing_dict(m__dict):\n",
    "    return sum([v for v in m__dict.values() if v >= 0]) == 0\n",
    "\n",
    "\n",
    "def minWindow(s: str, t: str) -> str:\n",
    "    t_len = len(t)\n",
    "    if len([test_char for test_char in t if test_char in s]) != t_len or t_len > len(s): \n",
    "        return \"\"\n",
    "\n",
    "    # initializing \n",
    "    shorest = [0, len(s) - 1]\n",
    "\n",
    "    f_pointer = 0\n",
    "    s_pointer = 0\n",
    "    set_ = set(t)\n",
    "\n",
    "    missing_dict = defaultdict(int, fillvalue=0)\n",
    "    {missing_dict.update({test_char: missing_dict[test_char] + 1}) for test_char in t}\n",
    "    \n",
    "    char_dict = defaultdict(int, fillvalue=0)\n",
    "    {char_dict.update({test_char: char_dict[test_char] + 1}) for test_char in s}\n",
    "    \n",
    "    \n",
    "    res = [char_dict.get(key, 0) - missing_dict[key] for key in missing_dict.keys()]     \n",
    "    if len([n for n in res if n < 0]) != 0: \n",
    "        return \"\"\n",
    "    \n",
    "    \n",
    "    \n",
    "    for idx, char in enumerate(s):\n",
    "\n",
    "        print(f\"{idx=}, {char=}\")\n",
    "\n",
    "        if char in set_:\n",
    "            if char in missing_dict: missing_dict.update({char: missing_dict[char] - 1})\n",
    "        if check_empty_missing_dict(missing_dict):\n",
    "            f_pointer = idx\n",
    "\n",
    "            current_shortest_len = shorest[1] - shorest[0]\n",
    "            current_pointer_len = f_pointer - s_pointer\n",
    "\n",
    "            if current_shortest_len > current_pointer_len:\n",
    "                shorest[0] = s_pointer\n",
    "                shorest[1] = f_pointer\n",
    "            while check_empty_missing_dict(missing_dict) and s_pointer < len(s):\n",
    "                \n",
    "                print(f\"while | {missing_dict=}, current shortest={s[shorest[0]:shorest[1] + 1]}\")\n",
    "                \n",
    "                previous_s_pointer = s_pointer\n",
    "                s_pointer = previous_s_pointer + 1\n",
    "                current_char = s[previous_s_pointer]\n",
    "                if current_char in t:\n",
    "                    missing_dict.update({current_char: missing_dict[current_char] + 1})\n",
    "                    \n",
    "                    print(f\"dodaje przesuwajac s_pointer {current_char=}, {s_pointer=}, {previous_s_pointer=}\")\n",
    "                    current_shortest_len = shorest[1] - shorest[0]\n",
    "                    current_pointer_len = f_pointer - previous_s_pointer\n",
    "                    if current_shortest_len > current_pointer_len:\n",
    "                        shorest[0] = previous_s_pointer\n",
    "                        shorest[1] = f_pointer\n",
    "    print(f\"{missing_dict=}\")\n",
    "    return s[shorest[0]:shorest[1] + 1]"
   ]
  },
  {
   "cell_type": "code",
   "outputs": [],
   "source": [
    "# minWindow('ADOBECODEBANC', 'ABC')\n",
    "# minWindow(\"bbaa\", 'aba')\n",
    "# minWindow(\"babb\", \"baba\")\n",
    "minWindow(\"aaaaaaaaaaaabbbbbcdd\", \"abcdd\")"
   ],
   "metadata": {
    "collapsed": false
   },
   "id": "7d8e70668ef2170",
   "execution_count": null
  },
  {
   "cell_type": "code",
   "outputs": [],
   "source": [
    "# YT solution\n",
    "def minWindow(s: str, t: str) -> str:\n",
    "    \n",
    "    t_len = len(t)\n",
    "    if len([test_char for test_char in t if test_char in s]) != t_len or t_len > len(s): \n",
    "        return \"\"\n",
    "    \n",
    "    \n",
    "    missing_count = defaultdict(int, fillvalue=0) # current_target\n",
    "    for ch in t:\n",
    "        missing_count[ch] += 1\n",
    "    # {missing_dict.update({test_char: missing_dict[test_char] + 1}) for test_char in t}\n",
    "    \n",
    "    target_chars_remaning = t_len\n",
    "    \n",
    "    minimal_window = (0, float('inf'))\n",
    "    start_index = 0\n",
    "    \n",
    "    for end_index, char in enumerate(s):\n",
    "        if missing_count[char] > 0:\n",
    "            target_chars_remaning -= 1\n",
    "        missing_count[char] -= 1\n",
    "        \n",
    "        if target_chars_remaning == 0:\n",
    "            while True:\n",
    "                starting_char = s[start_index]\n",
    "                if missing_count[starting_char] == 0:\n",
    "                    break\n",
    "                missing_count[starting_char] += 1\n",
    "                start_index += 1\n",
    "            if end_index - start_index < minimal_window[1] - minimal_window[0]:\n",
    "                minimal_window = (start_index, end_index)\n",
    "            missing_count[s[start_index]] += 1\n",
    "            target_chars_remaning += 1\n",
    "            start_index += 1\n",
    "    return \"\" if minimal_window[1] > len(s) else s[minimal_window[0]:minimal_window[1]+1]"
   ],
   "metadata": {
    "collapsed": false
   },
   "id": "66dc129d709c8c3d"
  }
 ],
 "metadata": {
  "kernelspec": {
   "display_name": "Python 3",
   "language": "python",
   "name": "python3"
  },
  "language_info": {
   "codemirror_mode": {
    "name": "ipython",
    "version": 2
   },
   "file_extension": ".py",
   "mimetype": "text/x-python",
   "name": "python",
   "nbconvert_exporter": "python",
   "pygments_lexer": "ipython2",
   "version": "2.7.6"
  }
 },
 "nbformat": 4,
 "nbformat_minor": 5
}
