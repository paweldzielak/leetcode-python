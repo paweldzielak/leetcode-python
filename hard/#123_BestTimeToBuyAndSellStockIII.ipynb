{
 "cells": [
  {
   "cell_type": "code",
   "execution_count": 5,
   "id": "initial_id",
   "metadata": {
    "collapsed": true,
    "ExecuteTime": {
     "end_time": "2024-12-20T07:34:27.766930500Z",
     "start_time": "2024-12-20T07:34:27.720104600Z"
    }
   },
   "outputs": [
    {
     "name": "stdout",
     "output_type": "stream",
     "text": [
      "{2, 3}\n",
      "{1}\n",
      "set()\n"
     ]
    },
    {
     "data": {
      "text/plain": "(5, 1, 0)"
     },
     "execution_count": 5,
     "metadata": {},
     "output_type": "execute_result"
    }
   ],
   "source": [
    "def max_profit(prices) -> int:\n",
    "    profit = 0\n",
    "    transactions = set()\n",
    "    \n",
    "    for idx, price in enumerate(prices[:len(prices)-1]):\n",
    "        if prices[idx+1] > price:\n",
    "            curr_profit = prices[idx+1] - price\n",
    "            transactions.add(curr_profit)\n",
    "        \n",
    "    print(transactions)\n",
    "    if len(transactions) == 0: \n",
    "        return 0\n",
    "    i = max(transactions)\n",
    "    profit += i\n",
    "    transactions.remove(i)\n",
    "    \n",
    "    if len(transactions) == 0: \n",
    "        return profit\n",
    "    profit += max(transactions)\n",
    "    return profit\n",
    "\n",
    "p1 = [3,3,5,0,0,3,1,4]\n",
    "p2 = [1,2,3,4,5]\n",
    "p3 = [7,6,4,3,1]\n",
    "\n",
    "max_profit(p1), max_profit(p2), max_profit(p3)"
   ]
  }
 ],
 "metadata": {
  "kernelspec": {
   "display_name": "Python 3",
   "language": "python",
   "name": "python3"
  },
  "language_info": {
   "codemirror_mode": {
    "name": "ipython",
    "version": 2
   },
   "file_extension": ".py",
   "mimetype": "text/x-python",
   "name": "python",
   "nbconvert_exporter": "python",
   "pygments_lexer": "ipython2",
   "version": "2.7.6"
  }
 },
 "nbformat": 4,
 "nbformat_minor": 5
}
