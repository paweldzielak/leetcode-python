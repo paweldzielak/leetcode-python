{
 "cells": [
  {
   "cell_type": "code",
   "outputs": [],
   "source": [
    "def minWindow(s: str, t: str) -> str:\n",
    "    t_len = len(t)\n",
    "    if len([test_char for test_char in t if test_char in s]) != t_len or t_len > len(s):\n",
    "        return \"\"\n",
    "\n",
    "    missing_count = defaultdict(int, fillvalue=0)  # current_target\n",
    "    for ch in t:\n",
    "        missing_count[ch] += 1\n",
    "    # {missing_dict.update({test_char: missing_dict[test_char] + 1}) for test_char in t}\n",
    "\n",
    "    target_chars_remaning = t_len\n",
    "\n",
    "    minimal_window = (0, float('inf'))\n",
    "    start_index = 0\n",
    "\n",
    "    for end_index, char in enumerate(s):\n",
    "        if missing_count[char] > 0:\n",
    "            target_chars_remaning -= 1\n",
    "        missing_count[char] -= 1\n",
    "\n",
    "        if target_chars_remaning == 0:\n",
    "            while True:\n",
    "                starting_char = s[start_index]\n",
    "                if missing_count[starting_char] == 0:\n",
    "                    break\n",
    "                missing_count[starting_char] += 1\n",
    "                start_index += 1\n",
    "            if end_index - start_index < minimal_window[1] - minimal_window[0]:\n",
    "                minimal_window = (start_index, end_index)\n",
    "            missing_count[s[start_index]] += 1\n",
    "            target_chars_remaning += 1\n",
    "            start_index += 1\n",
    "    return \"\" if minimal_window[1] > len(s) else s[minimal_window[0]:minimal_window[1] + 1]"
   ],
   "metadata": {
    "collapsed": false
   },
   "id": "66dc129d709c8c3d"
  }
 ],
 "metadata": {
  "kernelspec": {
   "display_name": "Python 3",
   "language": "python",
   "name": "python3"
  },
  "language_info": {
   "codemirror_mode": {
    "name": "ipython",
    "version": 2
   },
   "file_extension": ".py",
   "mimetype": "text/x-python",
   "name": "python",
   "nbconvert_exporter": "python",
   "pygments_lexer": "ipython2",
   "version": "2.7.6"
  }
 },
 "nbformat": 4,
 "nbformat_minor": 5
}
