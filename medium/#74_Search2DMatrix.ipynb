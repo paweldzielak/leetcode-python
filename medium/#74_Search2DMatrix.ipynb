{
 "cells": [
  {
   "cell_type": "code",
   "execution_count": 24,
   "id": "initial_id",
   "metadata": {
    "collapsed": true,
    "ExecuteTime": {
     "end_time": "2025-02-08T10:02:57.433547Z",
     "start_time": "2025-02-08T10:02:57.428815Z"
    }
   },
   "outputs": [
    {
     "name": "stdout",
     "output_type": "stream",
     "text": [
      "True -> True\n",
      "False -> False\n",
      "True -> True\n",
      "True -> True\n"
     ]
    }
   ],
   "source": [
    "from typing import List\n",
    "\n",
    "def searchMatrix(self, matrix: List[List[int]], target: int) -> bool:\n",
    "    for row in matrix:\n",
    "        l_idx = 0\n",
    "        r_idx = len(row)-1\n",
    "        \n",
    "        if target in row:\n",
    "            if len(row) == 1:\n",
    "                return True\n",
    "            while l_idx < r_idx:\n",
    "                m_idx = (l_idx + r_idx) // 2\n",
    "                l = row[l_idx]\n",
    "                r = row[r_idx]\n",
    "                m = row[m_idx]\n",
    "                \n",
    "                if m == target or l == target or r == target:\n",
    "                    return True\n",
    "                if target < m:\n",
    "                    r_idx = m_idx - 1\n",
    "                if m < target:\n",
    "                    l_idx = m_idx + 1\n",
    "    return False\n",
    "\n",
    "\n",
    "print(searchMatrix(None, [[1,3,5,7],[10,11,16,20],[23,30,34,60]], 3), \"->\", True)\n",
    "print(searchMatrix(None, [[1,3,5,7],[10,11,16,20],[23,30,34,60]], 13), \"->\", False)\n",
    "print(searchMatrix(None, [[1]], 1), \"->\", True)\n",
    "print(searchMatrix(None, [[1,3,5,7],[10,11,16,20],[23,30,34,50]], 5), \"->\", True)"
   ]
  }
 ],
 "metadata": {
  "kernelspec": {
   "display_name": "Python 3",
   "language": "python",
   "name": "python3"
  },
  "language_info": {
   "codemirror_mode": {
    "name": "ipython",
    "version": 2
   },
   "file_extension": ".py",
   "mimetype": "text/x-python",
   "name": "python",
   "nbconvert_exporter": "python",
   "pygments_lexer": "ipython2",
   "version": "2.7.6"
  }
 },
 "nbformat": 4,
 "nbformat_minor": 5
}
