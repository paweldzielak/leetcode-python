{
 "cells": [
  {
   "cell_type": "code",
   "execution_count": 31,
   "id": "initial_id",
   "metadata": {
    "collapsed": true,
    "ExecuteTime": {
     "end_time": "2025-02-13T07:29:10.619862Z",
     "start_time": "2025-02-13T07:29:10.614671Z"
    }
   },
   "outputs": [
    {
     "name": "stdout",
     "output_type": "stream",
     "text": [
      "3 3\n",
      "1 1\n",
      "3 3\n",
      "2 2\n"
     ]
    }
   ],
   "source": [
    "def lengthOfLongestSubstring(self, s: str) -> int:\n",
    "    if len(s) < 2: \n",
    "        return len(s)\n",
    "    l = 0\n",
    "    r = l + 1\n",
    "    \n",
    "    max_window = 0\n",
    "    current_substring = s[l]\n",
    "    while r < len(s):\n",
    "        if s[r] in current_substring:\n",
    "            l += 1\n",
    "        else:\n",
    "            r+=1\n",
    "        current_substring = s[l:r]\n",
    "        max_window = max(max_window, r - l)\n",
    "    \n",
    "    return max_window\n",
    "\n",
    "\n",
    "print(lengthOfLongestSubstring(None, 'abcabcbb'), 3)\n",
    "print(lengthOfLongestSubstring(None, 'bbbbb'), 1)\n",
    "print(lengthOfLongestSubstring(None, 'pwwkew'), 3)\n",
    "print(lengthOfLongestSubstring(None, \"au\"), 2)"
   ]
  }
 ],
 "metadata": {
  "kernelspec": {
   "display_name": "Python 3",
   "language": "python",
   "name": "python3"
  },
  "language_info": {
   "codemirror_mode": {
    "name": "ipython",
    "version": 2
   },
   "file_extension": ".py",
   "mimetype": "text/x-python",
   "name": "python",
   "nbconvert_exporter": "python",
   "pygments_lexer": "ipython2",
   "version": "2.7.6"
  }
 },
 "nbformat": 4,
 "nbformat_minor": 5
}
