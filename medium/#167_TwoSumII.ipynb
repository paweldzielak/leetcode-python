{
 "cells": [
  {
   "cell_type": "code",
   "execution_count": 9,
   "id": "initial_id",
   "metadata": {
    "collapsed": true,
    "ExecuteTime": {
     "end_time": "2025-01-05T12:25:56.593773Z",
     "start_time": "2025-01-05T12:25:56.584646Z"
    }
   },
   "outputs": [
    {
     "name": "stdout",
     "output_type": "stream",
     "text": [
      "[1, 2] [1,2]\n",
      "[1, 3] [1, 3]\n",
      "[1, 2] [1, 2]\n"
     ]
    }
   ],
   "source": [
    "from typing import List\n",
    "\n",
    "def twoSum(self, numbers: List[int], target: int) -> List[int]:\n",
    "    h = {num: i for i, num in enumerate(numbers)}\n",
    "    \n",
    "    for idx, num in enumerate(numbers):\n",
    "        remaining = target - num\n",
    "        if remaining in h and h[remaining] != idx:\n",
    "            return sorted([h[remaining]+1, idx+1])\n",
    "\n",
    "\n",
    "\n",
    "print(twoSum(None, [2,7,11,15], 9), \"[1,2]\")\n",
    "print(twoSum(None, [2,3,4], 6), \"[1, 3]\")\n",
    "print(twoSum(None, [-1,0], -1), \"[1, 2]\")"
   ]
  }
 ],
 "metadata": {
  "kernelspec": {
   "display_name": "Python 3",
   "language": "python",
   "name": "python3"
  },
  "language_info": {
   "codemirror_mode": {
    "name": "ipython",
    "version": 2
   },
   "file_extension": ".py",
   "mimetype": "text/x-python",
   "name": "python",
   "nbconvert_exporter": "python",
   "pygments_lexer": "ipython2",
   "version": "2.7.6"
  }
 },
 "nbformat": 4,
 "nbformat_minor": 5
}
