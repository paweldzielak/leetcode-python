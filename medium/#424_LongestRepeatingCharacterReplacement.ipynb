{
 "cells": [
  {
   "cell_type": "code",
   "execution_count": 34,
   "id": "initial_id",
   "metadata": {
    "collapsed": true,
    "ExecuteTime": {
     "end_time": "2025-02-13T08:10:42.476688Z",
     "start_time": "2025-02-13T08:10:42.471696Z"
    }
   },
   "outputs": [
    {
     "name": "stdout",
     "output_type": "stream",
     "text": [
      "l=0, r=1, swaped_chars=[]\n",
      "l=0, r=2, swaped_chars=['B']\n",
      "l=0, r=3, swaped_chars=['B', 'B']\n",
      "l=1, r=3, swaped_chars=['B', 'B']\n",
      "3 4\n"
     ]
    }
   ],
   "source": [
    "def characterReplacement(self, s: str, k: int) -> int:\n",
    "    if len(s) < 1 or len(s) < k:\n",
    "        return len(s)\n",
    "\n",
    "    if len(s) > 100:\n",
    "        s_ = set(s)\n",
    "        count = {char: s.count(char) for char in s_}\n",
    "        l_ = list(sorted(count.values()))\n",
    "        l_.pop()\n",
    "        if sum(l_) < k:\n",
    "            return len(s)\n",
    "\n",
    "    l = 0\n",
    "    r = l + 1\n",
    "\n",
    "    max_window = 0\n",
    "    swaped_chars = []\n",
    "    while r < len(s):\n",
    "        print(f'{l=}, {r=}, {swaped_chars=}')\n",
    "\n",
    "        if s[l] == s[r]:\n",
    "            r += 1\n",
    "        elif len(swaped_chars) < k:\n",
    "            swaped_chars.append(s[r])\n",
    "            r += 1\n",
    "        else:\n",
    "            if swaped_chars and s[l] == swaped_chars[0]:\n",
    "                swaped_chars = swaped_chars[1:]\n",
    "            l += 1\n",
    "\n",
    "        if max_window < (r - l):\n",
    "            max_window = r - l\n",
    "\n",
    "    return max_window\n",
    "\n",
    "\n",
    "# print(characterReplacement(None, 'ABAB', k = 2), 4)\n",
    "# print(characterReplacement(None, s = \"AABABBA\", k = 1), 4)\n",
    "print(characterReplacement(None, s=\"ABBB\", k=2), 4)"
   ]
  },
  {
   "cell_type": "code",
   "outputs": [
    {
     "data": {
      "text/plain": "(16, 14)"
     },
     "execution_count": 29,
     "metadata": {},
     "output_type": "execute_result"
    }
   ],
   "source": [
    "s = \"AABABBAAABABBAAABABBAAABABCCBA\"\n",
    "\n",
    "s_ = set(s)\n",
    "\n",
    "count = {char: s.count(char) for char in s_}\n",
    "l_ = list(sorted(count.values()))\n",
    "l_.pop()\n",
    "\n",
    "popped, sum(l_)\n",
    "\n",
    "# return len(s)"
   ],
   "metadata": {
    "collapsed": false,
    "ExecuteTime": {
     "end_time": "2025-02-13T08:05:57.715009Z",
     "start_time": "2025-02-13T08:05:57.711009Z"
    }
   },
   "id": "1e82fed32c8324db",
   "execution_count": 29
  },
  {
   "cell_type": "code",
   "outputs": [
    {
     "data": {
      "text/plain": "{'C': 2, 'B': 12, 'A': 16}"
     },
     "execution_count": 40,
     "metadata": {},
     "output_type": "execute_result"
    }
   ],
   "source": [
    "# sort by values:\n",
    "\n",
    "s = \"AABABBAAABABBAAABABBAAABABCCBA\"\n",
    "\n",
    "s_ = set(s)\n",
    "\n",
    "count = {char: s.count(char) for char in s_}\n",
    "hm = dict(sorted(count.items(), key=lambda x: x[1]))\n",
    "last_key = list(hm.keys())[-1]\n",
    "\n",
    "hm\n",
    "\n",
    "# popped, sum(l_)\n",
    "\n",
    "# return len(s)"
   ],
   "metadata": {
    "collapsed": false,
    "ExecuteTime": {
     "end_time": "2025-02-13T08:24:14.714202Z",
     "start_time": "2025-02-13T08:24:14.709410Z"
    }
   },
   "id": "4fef496603f1bb6d",
   "execution_count": 40
  },
  {
   "cell_type": "code",
   "source": [
    "def characterReplacement2(self, s: str, k: int) -> int:\n",
    "    longest = 0\n",
    "    l = 0\n",
    "    counts = [0] * 26\n",
    "\n",
    "    for r in range(len(s)):\n",
    "        counts[ord(s[r]) - 65] += 1\n",
    "\n",
    "        while (r - l + 1) - max(counts) > k:\n",
    "            counts[ord(s[l]) - 65] -= 1\n",
    "            l += 1\n",
    "\n",
    "        longest = max(longest, (r - l + 1))\n",
    "\n",
    "    return longest\n",
    "\n",
    "\n",
    "print(characterReplacement2(None, 'ABAB', k=2), 4)\n",
    "# print(characterReplacement2(None, s = \"AABABBA\", k = 1), 4)\n",
    "# print(characterReplacement2(None, s = \"ABBB\", k = 1), 4)\n",
    "# print(characterReplacement2(None, s = \"AAAB\", k = 0), 3)\n",
    "print(characterReplacement2(None, s=\"ABAB\", k=0), 1)"
   ],
   "metadata": {
    "collapsed": false,
    "ExecuteTime": {
     "end_time": "2025-08-20T04:38:10.185784Z",
     "start_time": "2025-08-20T04:38:10.180743Z"
    }
   },
   "id": "5849b57beab1ec63",
   "outputs": [
    {
     "name": "stdout",
     "output_type": "stream",
     "text": [
      "4 4\n",
      "1 1\n"
     ]
    }
   ],
   "execution_count": 6
  }
 ],
 "metadata": {
  "kernelspec": {
   "display_name": "Python 3",
   "language": "python",
   "name": "python3"
  },
  "language_info": {
   "codemirror_mode": {
    "name": "ipython",
    "version": 2
   },
   "file_extension": ".py",
   "mimetype": "text/x-python",
   "name": "python",
   "nbconvert_exporter": "python",
   "pygments_lexer": "ipython2",
   "version": "2.7.6"
  }
 },
 "nbformat": 4,
 "nbformat_minor": 5
}
