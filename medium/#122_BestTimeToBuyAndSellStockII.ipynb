{
 "cells": [
  {
   "cell_type": "code",
   "execution_count": 4,
   "id": "initial_id",
   "metadata": {
    "collapsed": true,
    "ExecuteTime": {
     "end_time": "2024-12-20T07:20:45.787355900Z",
     "start_time": "2024-12-20T07:20:45.767928500Z"
    }
   },
   "outputs": [
    {
     "data": {
      "text/plain": "(7, 4, 0)"
     },
     "execution_count": 4,
     "metadata": {},
     "output_type": "execute_result"
    }
   ],
   "source": [
    "def maxProfit(prices) -> int:\n",
    "    profit = 0\n",
    "    for idx, price in enumerate(prices[:len(prices) - 1]):\n",
    "        diff = prices[idx + 1] - price\n",
    "        if diff > 0:\n",
    "            profit += diff\n",
    "    return profit\n",
    "\n",
    "\n",
    "p1 = [7, 1, 5, 3, 6, 4]\n",
    "p2 = [1, 2, 3, 4, 5]\n",
    "p3 = [7, 6, 4, 3, 1]\n",
    "\n",
    "\n",
    "maxProfit(p1), maxProfit(p2), maxProfit(p3)"
   ]
  }
 ],
 "metadata": {
  "kernelspec": {
   "display_name": "Python 3",
   "language": "python",
   "name": "python3"
  },
  "language_info": {
   "codemirror_mode": {
    "name": "ipython",
    "version": 2
   },
   "file_extension": ".py",
   "mimetype": "text/x-python",
   "name": "python",
   "nbconvert_exporter": "python",
   "pygments_lexer": "ipython2",
   "version": "2.7.6"
  }
 },
 "nbformat": 4,
 "nbformat_minor": 5
}
