{
 "cells": [
  {
   "cell_type": "code",
   "execution_count": 44,
   "id": "initial_id",
   "metadata": {
    "collapsed": true,
    "ExecuteTime": {
     "end_time": "2025-02-12T09:10:32.531488Z",
     "start_time": "2025-02-12T09:10:32.526847Z"
    }
   },
   "outputs": [
    {
     "name": "stdout",
     "output_type": "stream",
     "text": [
      "True\n",
      "True\n"
     ]
    }
   ],
   "source": [
    "from typing import List\n",
    "\n",
    "def longestOnes(self, nums: List[int], k: int) -> int:\n",
    "    if nums.count(0) <= k:\n",
    "        return len(nums)\n",
    "    r = 0\n",
    "    l = 0\n",
    "    max_window = 0\n",
    "    current_zeros = 0\n",
    "    while r < len(nums):\n",
    "        if nums[r] == 0:\n",
    "            current_zeros += 1\n",
    "        if current_zeros <= k:\n",
    "            max_window = max(r+1 - l, max_window)\n",
    "        else:\n",
    "            if nums[l] == 0 and current_zeros != 0:\n",
    "                current_zeros -= 1\n",
    "            l += 1 \n",
    "        r += 1    \n",
    "    \n",
    "    return max_window\n",
    "\n",
    "print(longestOnes(None, [1,1,1,0,0,0,1,1,1,1,0], 2) == 6)\n",
    "print(longestOnes(None, [0,0,1,1,0,0,1,1,1,0,1,1,0,0,0,1,1,1,1], 3) == 10)"
   ]
  }
 ],
 "metadata": {
  "kernelspec": {
   "display_name": "Python 3",
   "language": "python",
   "name": "python3"
  },
  "language_info": {
   "codemirror_mode": {
    "name": "ipython",
    "version": 2
   },
   "file_extension": ".py",
   "mimetype": "text/x-python",
   "name": "python",
   "nbconvert_exporter": "python",
   "pygments_lexer": "ipython2",
   "version": "2.7.6"
  }
 },
 "nbformat": 4,
 "nbformat_minor": 5
}
