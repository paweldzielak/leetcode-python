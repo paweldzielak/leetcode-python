{
 "cells": [
  {
   "cell_type": "code",
   "id": "initial_id",
   "metadata": {
    "collapsed": true,
    "ExecuteTime": {
     "end_time": "2025-03-15T11:12:03.224448Z",
     "start_time": "2025-03-15T11:12:03.216141Z"
    }
   },
   "source": [
    "from typing import List\n",
    "\n",
    "\n",
    "# 312 / 314 testcases passed\n",
    "def threeSum(self, nums: List[int]) -> List[List[int]]:\n",
    "    result = []\n",
    "    nums.sort()\n",
    "    for idx, c1 in enumerate(nums):\n",
    "        l = idx + 1\n",
    "        r = len(nums) - 1\n",
    "        while l < r:\n",
    "            current_l = [c1, nums[l], nums[r]]\n",
    "            summ = sum(current_l)\n",
    "            if summ == 0 and current_l not in result:\n",
    "                result.append(current_l)\n",
    "                l, r = l + 1, r - 1\n",
    "                while l < r and nums[l] == nums[r]:\n",
    "                    if sum([c1, nums[l], nums[r]]) == 0 and [c1, nums[l], nums[r]] not in result:\n",
    "                        break\n",
    "                    l += 1\n",
    "                while l < r and nums[r] == nums[r + 1]:\n",
    "                    if sum([c1, nums[l], nums[r]]) == 0 and [c1, nums[l], nums[r]] not in result:\n",
    "                        break\n",
    "                    r -= 1\n",
    "            elif summ < 0:\n",
    "                l += 1\n",
    "            else:\n",
    "                r -= 1\n",
    "\n",
    "    return result\n",
    "\n",
    "\n",
    "# print('result=', threeSum(None, [1, 2, 3, 4, 5, 6]), 'test')\n",
    "print('result=', threeSum(None, [-1, 0, 1, 2, -1, -4]), [[-1, -1, 2], [-1, 0, 1]])\n",
    "print('result=', threeSum(None, [0, 1, 1]) == [])\n",
    "print('result=', threeSum(None, [0, 0, 0]) == [[0, 0, 0]])\n",
    "print('result=', threeSum(None, [-2, 0, 1, 1, 2]), [[-2, 0, 2], [-2, 1, 1]])"
   ],
   "outputs": [
    {
     "name": "stdout",
     "output_type": "stream",
     "text": [
      "result= [[-1, -1, 2], [-1, 0, 1]] [[-1, -1, 2], [-1, 0, 1]]\n",
      "result= True\n",
      "result= True\n",
      "result= [[-2, 0, 2], [-2, 1, 1]] [[-2, 0, 2], [-2, 1, 1]]\n"
     ]
    }
   ],
   "execution_count": 39
  },
  {
   "metadata": {},
   "cell_type": "code",
   "outputs": [],
   "execution_count": null,
   "source": [
    "# best solution from the internet:\n",
    "class Solution:\n",
    "    def threeSum(self, nums: List[int]) -> List[List[int]]:\n",
    "        res = set()\n",
    "\n",
    "        #1. Split nums into three lists: negative numbers, positive numbers, and zeros\n",
    "        n, p, z = [], [], []\n",
    "        for num in nums:\n",
    "            if num > 0:\n",
    "                p.append(num)\n",
    "            elif num < 0:\n",
    "                n.append(num)\n",
    "            else:\n",
    "                z.append(num)\n",
    "\n",
    "        #2. Create a separate set for negatives and positives for O(1) look-up times\n",
    "        N, P = set(n), set(p)\n",
    "\n",
    "        #3. If there is at least 1 zero in the list, add all cases where -num exists in N and num exists in P\n",
    "        #   i.e. (-3, 0, 3) = 0\n",
    "        if z:\n",
    "            for num in P:\n",
    "                if -1*num in N:\n",
    "                    res.add((-1*num, 0, num))\n",
    "\n",
    "        #3. If there are at least 3 zeros in the list then also include (0, 0, 0) = 0\n",
    "        if len(z) >= 3:\n",
    "            res.add((0,0,0))\n",
    "\n",
    "        #4. For all pairs of negative numbers (-3, -1), check to see if their complement (4)\n",
    "        #   exists in the positive number set\n",
    "        for i in range(len(n)):\n",
    "            for j in range(i+1,len(n)):\n",
    "                target = -1*(n[i]+n[j])\n",
    "                if target in P:\n",
    "                    res.add(tuple(sorted([n[i],n[j],target])))\n",
    "\n",
    "        #5. For all pairs of positive numbers (1, 1), check to see if their complement (-2)\n",
    "        #   exists in the negative number set\n",
    "        for i in range(len(p)):\n",
    "            for j in range(i+1,len(p)):\n",
    "                target = -1*(p[i]+p[j])\n",
    "                if target in N:\n",
    "                    res.add(tuple(sorted([p[i],p[j],target])))\n",
    "\n",
    "        return [list(a) for a in res]\n"
   ],
   "id": "5b97a981161c66b5"
  }
 ],
 "metadata": {
  "kernelspec": {
   "display_name": "Python 3",
   "language": "python",
   "name": "python3"
  },
  "language_info": {
   "codemirror_mode": {
    "name": "ipython",
    "version": 2
   },
   "file_extension": ".py",
   "mimetype": "text/x-python",
   "name": "python",
   "nbconvert_exporter": "python",
   "pygments_lexer": "ipython2",
   "version": "2.7.6"
  }
 },
 "nbformat": 4,
 "nbformat_minor": 5
}
