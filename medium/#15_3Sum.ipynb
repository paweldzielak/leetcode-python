{
 "cells": [
  {
   "cell_type": "code",
   "id": "initial_id",
   "metadata": {
    "collapsed": true,
    "ExecuteTime": {
     "end_time": "2025-03-15T11:12:03.224448Z",
     "start_time": "2025-03-15T11:12:03.216141Z"
    }
   },
   "source": [
    "from typing import List\n",
    "\n",
    "\n",
    "# 312 / 314 testcases passed\n",
    "def threeSum(self, nums: List[int]) -> List[List[int]]:\n",
    "    result = []\n",
    "    nums.sort()\n",
    "    for idx, c1 in enumerate(nums):\n",
    "        l = idx + 1\n",
    "        r = len(nums) - 1\n",
    "        while l < r:\n",
    "            current_l = [c1, nums[l], nums[r]]\n",
    "            summ = sum(current_l)\n",
    "            if summ == 0 and current_l not in result:\n",
    "                result.append(current_l)\n",
    "                l, r = l + 1, r - 1\n",
    "                while l < r and nums[l] == nums[r]:\n",
    "                    if sum([c1, nums[l], nums[r]]) == 0 and [c1, nums[l], nums[r]] not in result:\n",
    "                        break\n",
    "                    l += 1\n",
    "                while l < r and nums[r] == nums[r + 1]:\n",
    "                    if sum([c1, nums[l], nums[r]]) == 0 and [c1, nums[l], nums[r]] not in result:\n",
    "                        break\n",
    "                    r -= 1\n",
    "            elif summ < 0:\n",
    "                l += 1\n",
    "            else:\n",
    "                r -= 1\n",
    "\n",
    "    return result\n",
    "\n",
    "\n",
    "# print('result=', threeSum(None, [1, 2, 3, 4, 5, 6]), 'test')\n",
    "print('result=', threeSum(None, [-1, 0, 1, 2, -1, -4]), [[-1, -1, 2], [-1, 0, 1]])\n",
    "print('result=', threeSum(None, [0, 1, 1]) == [])\n",
    "print('result=', threeSum(None, [0, 0, 0]) == [[0, 0, 0]])\n",
    "print('result=', threeSum(None, [-2, 0, 1, 1, 2]), [[-2, 0, 2], [-2, 1, 1]])"
   ],
   "outputs": [
    {
     "name": "stdout",
     "output_type": "stream",
     "text": [
      "result= [[-1, -1, 2], [-1, 0, 1]] [[-1, -1, 2], [-1, 0, 1]]\n",
      "result= True\n",
      "result= True\n",
      "result= [[-2, 0, 2], [-2, 1, 1]] [[-2, 0, 2], [-2, 1, 1]]\n"
     ]
    }
   ],
   "execution_count": 39
  }
 ],
 "metadata": {
  "kernelspec": {
   "display_name": "Python 3",
   "language": "python",
   "name": "python3"
  },
  "language_info": {
   "codemirror_mode": {
    "name": "ipython",
    "version": 2
   },
   "file_extension": ".py",
   "mimetype": "text/x-python",
   "name": "python",
   "nbconvert_exporter": "python",
   "pygments_lexer": "ipython2",
   "version": "2.7.6"
  }
 },
 "nbformat": 4,
 "nbformat_minor": 5
}
