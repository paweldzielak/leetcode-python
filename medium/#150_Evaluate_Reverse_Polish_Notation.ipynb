{
 "cells": [
  {
   "cell_type": "code",
   "outputs": [
    {
     "name": "stdout",
     "output_type": "stream",
     "text": [
      "54  -> 54\n",
      "6  -> 6\n",
      "9  -> 9\n",
      "22  -> 22\n"
     ]
    }
   ],
   "source": [
    "from typing import List\n",
    "from math import ceil, floor\n",
    "\n",
    "# stacks\n",
    "def evalRPN(self, tokens: List[str]) -> int:\n",
    "\n",
    "    if len(tokens) == 1:\n",
    "        return int(tokens[0])\n",
    "    \n",
    "    stk = []\n",
    "    for t in tokens:\n",
    "        if t in '-+/*':\n",
    "            b, a = stk.pop(), stk.pop()\n",
    "            if t == '-':\n",
    "                stk.append(a - b)\n",
    "            elif t == '+':\n",
    "                stk.append(a + b)\n",
    "            elif t == '*':\n",
    "                stk.append(a * b)\n",
    "            elif t == '/':\n",
    "                result = a / b\n",
    "                if result < 0:\n",
    "                    stk.append(ceil(result))\n",
    "                else:\n",
    "                    stk.append(floor(result))\n",
    "            \n",
    "        else:\n",
    "            stk.append(int(t))\n",
    "            \n",
    "    return stk[0]\n",
    "\n",
    "\n",
    "print(evalRPN(None, [\"4\",\"5\",\"10\",\"*\",\"+\"]), \" -> 54\")\n",
    "print(evalRPN(None, [\"4\",\"13\",\"5\",\"/\",\"+\"]), \" -> 6\")\n",
    "print(evalRPN(None, [\"2\",\"1\",\"+\",\"3\",\"*\"]), \" -> 9\")\n",
    "print(evalRPN(None, [\"10\",\"6\",\"9\",\"3\",\"+\",\"-11\",\"*\",\"/\",\"*\",\"17\",\"+\",\"5\",\"+\"]), \" -> 22\")"
   ],
   "metadata": {
    "collapsed": false
   },
   "id": "initial_id",
   "execution_count": 109
  }
 ],
 "metadata": {
  "kernelspec": {
   "display_name": "Python 3",
   "language": "python",
   "name": "python3"
  },
  "language_info": {
   "codemirror_mode": {
    "name": "ipython",
    "version": 2
   },
   "file_extension": ".py",
   "mimetype": "text/x-python",
   "name": "python",
   "nbconvert_exporter": "python",
   "pygments_lexer": "ipython2",
   "version": "2.7.6"
  }
 },
 "nbformat": 4,
 "nbformat_minor": 5
}
