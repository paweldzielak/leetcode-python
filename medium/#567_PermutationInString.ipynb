{
 "cells": [
  {
   "cell_type": "code",
   "id": "initial_id",
   "metadata": {
    "collapsed": true,
    "ExecuteTime": {
     "end_time": "2025-08-20T05:17:49.068635Z",
     "start_time": "2025-08-20T05:17:49.063077Z"
    }
   },
   "source": [
    "def checkInclusion(self, s1: str, s2: str) -> bool:\n",
    "    if not set(s1).issubset(set(s2)):\n",
    "        return False\n",
    "\n",
    "    for char in s1:\n",
    "        count1 = s1.count(char)\n",
    "        count2 = s2.count(char)\n",
    "\n",
    "        if count1 > count2:\n",
    "            return False\n",
    "\n",
    "    return True\n",
    "\n",
    "checkInclusion(None, s1 = \"ab\", s2 = \"eidbaooo\")"
   ],
   "outputs": [
    {
     "data": {
      "text/plain": [
       "True"
      ]
     },
     "execution_count": 2,
     "metadata": {},
     "output_type": "execute_result"
    }
   ],
   "execution_count": 2
  },
  {
   "metadata": {
    "ExecuteTime": {
     "end_time": "2025-08-20T05:33:19.783492Z",
     "start_time": "2025-08-20T05:33:19.778790Z"
    }
   },
   "cell_type": "code",
   "source": [
    "def checkInclusion(self, s1: str, s2: str) -> bool:\n",
    "    if not set(s1).issubset(set(s2)):\n",
    "        return False\n",
    "\n",
    "    l = 0\n",
    "    win_size = len(s1)\n",
    "    for r in range(len(s2)):\n",
    "        r = l + win_size\n",
    "\n",
    "        current_str = s2[l:r]\n",
    "        is_match = True\n",
    "        for char in s1:\n",
    "            count1 = s1.count(char)\n",
    "            count2 = current_str.count(char)\n",
    "            if count1 != count2:\n",
    "                is_match = False\n",
    "                break\n",
    "        if is_match:\n",
    "            return True\n",
    "        else:\n",
    "            l +=1\n",
    "\n",
    "    return False\n",
    "\n",
    "\n",
    "print(checkInclusion(None, s1 = \"ab\", s2 = \"eidbaooo\"))\n",
    "print(checkInclusion(None, s1 = \"ab\", s2 = \"eidboaoo\"))"
   ],
   "id": "2365d6b8b53047cd",
   "outputs": [
    {
     "name": "stdout",
     "output_type": "stream",
     "text": [
      "True\n",
      "False\n"
     ]
    }
   ],
   "execution_count": 6
  }
 ],
 "metadata": {
  "kernelspec": {
   "display_name": "Python 3",
   "language": "python",
   "name": "python3"
  },
  "language_info": {
   "codemirror_mode": {
    "name": "ipython",
    "version": 2
   },
   "file_extension": ".py",
   "mimetype": "text/x-python",
   "name": "python",
   "nbconvert_exporter": "python",
   "pygments_lexer": "ipython2",
   "version": "2.7.6"
  }
 },
 "nbformat": 4,
 "nbformat_minor": 5
}
