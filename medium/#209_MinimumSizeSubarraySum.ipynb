{
 "cells": [
  {
   "cell_type": "code",
   "id": "initial_id",
   "metadata": {
    "collapsed": true,
    "ExecuteTime": {
     "end_time": "2025-08-20T05:05:10.223419Z",
     "start_time": "2025-08-20T05:05:10.216075Z"
    }
   },
   "source": [
    "from typing import List\n",
    "\n",
    "def minSubArrayLen(self, target: int, nums: List[int]) -> int:\n",
    "    left = 0\n",
    "    right = 0\n",
    "    min_len = float('inf')\n",
    "\n",
    "    while right <= len(nums):\n",
    "        current_arr = nums[left:right]\n",
    "        current_sum = sum(current_arr)\n",
    "        if current_sum >= target:\n",
    "            min_len = min(min_len, right - left)\n",
    "            print(current_sum, min_len, current_arr)\n",
    "            left += 1\n",
    "        else:\n",
    "            right += 1\n",
    "\n",
    "    return 0 if min_len > len(nums) else min_len\n",
    "\n",
    "\n",
    "# minSubArrayLen(None, 7, [2,3,1,2,4,3])\n",
    "minSubArrayLen(None, 15, [5,1,3,5,10,7,4,9,2,8])\n"
   ],
   "outputs": [
    {
     "name": "stdout",
     "output_type": "stream",
     "text": [
      "24 5 [5, 1, 3, 5, 10]\n",
      "19 4 [1, 3, 5, 10]\n",
      "18 3 [3, 5, 10]\n",
      "15 2 [5, 10]\n",
      "17 2 [10, 7]\n",
      "20 2 [7, 4, 9]\n",
      "15 2 [4, 9, 2]\n",
      "19 2 [9, 2, 8]\n"
     ]
    },
    {
     "data": {
      "text/plain": [
       "2"
      ]
     },
     "execution_count": 11,
     "metadata": {},
     "output_type": "execute_result"
    }
   ],
   "execution_count": 11
  },
  {
   "metadata": {
    "ExecuteTime": {
     "end_time": "2025-08-20T05:10:31.131701Z",
     "start_time": "2025-08-20T05:10:31.125635Z"
    }
   },
   "cell_type": "code",
   "source": [
    "from typing import List\n",
    "\n",
    "def minSubArrayLen(self, target: int, nums: List[int]) -> int:\n",
    "    left = 0\n",
    "    min_len = float('inf')\n",
    "\n",
    "    summ = 0\n",
    "    for right in range(len(nums)):\n",
    "        summ += nums[right]\n",
    "        while summ >= target:\n",
    "            min_len = min(min_len, right - left + 1)\n",
    "            summ -= nums[left]\n",
    "            left += 1\n",
    "\n",
    "    return 0 if min_len > len(nums) else min_len\n",
    "\n",
    "\n",
    "# minSubArrayLen(None, 7, [2,3,1,2,4,3])\n",
    "minSubArrayLen(None, 15, [5,1,3,5,10,7,4,9,2,8])\n"
   ],
   "id": "fb48087afe471f9a",
   "outputs": [
    {
     "data": {
      "text/plain": [
       "2"
      ]
     },
     "execution_count": 13,
     "metadata": {},
     "output_type": "execute_result"
    }
   ],
   "execution_count": 13
  }
 ],
 "metadata": {
  "kernelspec": {
   "display_name": "Python 3",
   "language": "python",
   "name": "python3"
  },
  "language_info": {
   "codemirror_mode": {
    "name": "ipython",
    "version": 2
   },
   "file_extension": ".py",
   "mimetype": "text/x-python",
   "name": "python",
   "nbconvert_exporter": "python",
   "pygments_lexer": "ipython2",
   "version": "2.7.6"
  }
 },
 "nbformat": 4,
 "nbformat_minor": 5
}
