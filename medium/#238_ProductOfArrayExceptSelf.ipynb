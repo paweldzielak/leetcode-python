{
 "cells": [
  {
   "cell_type": "code",
   "execution_count": 28,
   "id": "initial_id",
   "metadata": {
    "collapsed": true,
    "ExecuteTime": {
     "end_time": "2025-01-05T10:33:40.862030Z",
     "start_time": "2025-01-05T10:33:40.854750Z"
    }
   },
   "outputs": [
    {
     "name": "stdout",
     "output_type": "stream",
     "text": [
      "[24, 12, 8, 6] [24,12,8,6]\n",
      "[0, 0, 9, 0, 0] [0,0,9,0,0]\n",
      "[24, 12, 8, 6] [0,0,9,0,0]\n"
     ]
    }
   ],
   "source": [
    "from typing import List\n",
    "from functools import reduce\n",
    "from operator import mul\n",
    "\n",
    "\n",
    "def productExceptSelf(self, nums: List[int]) -> List[int]:\n",
    "    results = list()\n",
    "    for idx, num in enumerate(nums):\n",
    "        ns = (num2 for idx2, num2 in enumerate(nums) if idx2 != idx)\n",
    "        results.append(reduce((lambda x, y: x * y), ns))\n",
    "    return results\n",
    "\n",
    "print(productExceptSelf(None, [1,2,3,4]), \"[24,12,8,6]\")\n",
    "print(productExceptSelf(None, [-1,1,0,-3,3]), \"[0,0,9,0,0]\")\n",
    "print(productExceptSelf(None, [1,2,3,4]), \"[0,0,9,0,0]\")"
   ]
  },
  {
   "cell_type": "code",
   "outputs": [
    {
     "name": "stdout",
     "output_type": "stream",
     "text": [
      "[24, 12, 8, 6] [24,12,8,6]\n",
      "[0, 0, 9, 0, 0] [0,0,9,0,0]\n",
      "[0, 0] ---\n",
      "[1, 1] [1,1]\n",
      "[0, 0, 0] [0,0,0]\n"
     ]
    }
   ],
   "source": [
    "from operator import mul\n",
    "\n",
    "def productExceptSelf(self, nums: List[int]) -> List[int]:\n",
    "    if len(set(nums)) == 1:\n",
    "        return [nums[0]] * len(nums)\n",
    "    results = list()\n",
    "    \n",
    "    r = dict.fromkeys(nums, 0)\n",
    "    \n",
    "    for n in r:\n",
    "        r[n] = nums.count(n)\n",
    "    \n",
    "    for idx, n in enumerate(nums):\n",
    "        numbers = []\n",
    "           \n",
    "        for n2, count in r.items():\n",
    "            if n == n2 and r[n2] > 1:\n",
    "                count -= 1\n",
    "                numbers.append(n2 ** count)\n",
    "            elif n != n2:            \n",
    "                # print(f\"{n=}, {n2=}, {count=}\")\n",
    "                numbers.append(n2 ** count)\n",
    "        # print(f\"{numbers=}\")\n",
    "        result = reduce(mul, numbers)\n",
    "        results.append(result)\n",
    "    \n",
    "    \n",
    "    return results\n",
    "\n",
    "print(productExceptSelf(None, [1,2,3,4]), \"[24,12,8,6]\")\n",
    "print(productExceptSelf(None, [-1,1,0,-3,3]), \"[0,0,9,0,0]\")\n",
    "print(productExceptSelf(None, [0,0]), \"---\")\n",
    "print(productExceptSelf(None, [1,1]), \"[1,1]\")\n",
    "print(productExceptSelf(None, [0,4,0]), \"[0,0,0]\")"
   ],
   "metadata": {
    "collapsed": false,
    "ExecuteTime": {
     "end_time": "2025-01-05T12:00:23.992284Z",
     "start_time": "2025-01-05T12:00:23.982817Z"
    }
   },
   "id": "7a2cffbb101a6474",
   "execution_count": 94
  },
  {
   "cell_type": "code",
   "outputs": [
    {
     "name": "stdout",
     "output_type": "stream",
     "text": [
      "[2, 3, 4]\n"
     ]
    }
   ],
   "source": [
    "idx = 0\n",
    "nums = [1,2,3,4]\n",
    "\n",
    "ns = [num2 for idx2, num2 in enumerate(nums) if idx2 != idx]\n",
    "print(ns)\n",
    "# mul(5,2)\n",
    "\n",
    "\n"
   ],
   "metadata": {
    "collapsed": false,
    "ExecuteTime": {
     "end_time": "2025-01-05T10:32:26.997512Z",
     "start_time": "2025-01-05T10:32:26.991417Z"
    }
   },
   "id": "d961aefe4c771782",
   "execution_count": 23
  },
  {
   "cell_type": "code",
   "outputs": [],
   "source": [
    "[1,2,3,4].remove(2)"
   ],
   "metadata": {
    "collapsed": false,
    "ExecuteTime": {
     "end_time": "2025-01-05T11:13:25.680376Z",
     "start_time": "2025-01-05T11:13:25.675446Z"
    }
   },
   "id": "f83375645a3efb85",
   "execution_count": 54
  },
  {
   "cell_type": "markdown",
   "source": [],
   "metadata": {
    "collapsed": false
   },
   "id": "263a1ac26f55289c"
  },
  {
   "cell_type": "code",
   "outputs": [
    {
     "data": {
      "text/plain": "{-3, -1, 0, 1, 3}"
     },
     "execution_count": 78,
     "metadata": {},
     "output_type": "execute_result"
    }
   ],
   "source": [
    "set([-1,1,0,-3,3]) | {0}"
   ],
   "metadata": {
    "collapsed": false,
    "ExecuteTime": {
     "end_time": "2025-01-05T11:26:36.839778Z",
     "start_time": "2025-01-05T11:26:36.835356Z"
    }
   },
   "id": "73eb7533ae477b61",
   "execution_count": 78
  }
 ],
 "metadata": {
  "kernelspec": {
   "display_name": "Python 3",
   "language": "python",
   "name": "python3"
  },
  "language_info": {
   "codemirror_mode": {
    "name": "ipython",
    "version": 2
   },
   "file_extension": ".py",
   "mimetype": "text/x-python",
   "name": "python",
   "nbconvert_exporter": "python",
   "pygments_lexer": "ipython2",
   "version": "2.7.6"
  }
 },
 "nbformat": 4,
 "nbformat_minor": 5
}
